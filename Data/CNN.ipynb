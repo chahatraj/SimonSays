{
 "cells": [
  {
   "cell_type": "code",
   "execution_count": 1,
   "metadata": {
    "colab": {},
    "colab_type": "code",
    "id": "-d-jma4-V2Hy"
   },
   "outputs": [],
   "source": [
    "import numpy as np"
   ]
  },
  {
   "cell_type": "code",
   "execution_count": 6,
   "metadata": {
    "colab": {},
    "colab_type": "code",
    "id": "h-CdEqO5V7N7"
   },
   "outputs": [],
   "source": [
    "#extracting data from csv files into numpy arrays\n",
    "from numpy import genfromtxt\n",
    "x_train = genfromtxt('train_data1.csv', delimiter=',')\n",
    "y_train = genfromtxt('train_labels1.csv', delimiter=',')\n",
    "x_test = genfromtxt('test_data1.csv', delimiter=',')\n",
    "y_test = genfromtxt('test_labels1.csv', delimiter=',')"
   ]
  },
  {
   "cell_type": "code",
   "execution_count": 7,
   "metadata": {
    "colab": {
     "base_uri": "https://localhost:8080/",
     "height": 34
    },
    "colab_type": "code",
    "executionInfo": {
     "elapsed": 2960,
     "status": "ok",
     "timestamp": 1555477811716,
     "user": {
      "displayName": "Triloki Gupta",
      "photoUrl": "https://lh5.googleusercontent.com/-i5Q2Y1Fc3cc/AAAAAAAAAAI/AAAAAAAAHqI/ncYI5bgHpiQ/s64/photo.jpg",
      "userId": "02497753737384523015"
     },
     "user_tz": -330
    },
    "id": "hKNDiwOWWBeC",
    "outputId": "db62c616-ba67-487e-a747-6a27637e5f8f"
   },
   "outputs": [
    {
     "data": {
      "text/plain": [
       "((108, 180), (27, 180), (108,), (27,))"
      ]
     },
     "execution_count": 7,
     "metadata": {},
     "output_type": "execute_result"
    }
   ],
   "source": [
    "#shape\n",
    "x_train.shape,x_test.shape,y_train.shape,y_test.shape"
   ]
  },
  {
   "cell_type": "code",
   "execution_count": 9,
   "metadata": {
    "colab": {
     "base_uri": "https://localhost:8080/",
     "height": 51
    },
    "colab_type": "code",
    "executionInfo": {
     "elapsed": 8595,
     "status": "ok",
     "timestamp": 1555477817400,
     "user": {
      "displayName": "Triloki Gupta",
      "photoUrl": "https://lh5.googleusercontent.com/-i5Q2Y1Fc3cc/AAAAAAAAAAI/AAAAAAAAHqI/ncYI5bgHpiQ/s64/photo.jpg",
      "userId": "02497753737384523015"
     },
     "user_tz": -330
    },
    "id": "1FzsmYlVWCHR",
    "outputId": "1a0224dd-cc6f-408d-b11d-ab195861196f"
   },
   "outputs": [
    {
     "ename": "IndexError",
     "evalue": "index 7 is out of bounds for axis 1 with size 6",
     "output_type": "error",
     "traceback": [
      "\u001b[1;31m---------------------------------------------------------------------------\u001b[0m",
      "\u001b[1;31mIndexError\u001b[0m                                Traceback (most recent call last)",
      "\u001b[1;32m<ipython-input-9-2bb1d064ca69>\u001b[0m in \u001b[0;36m<module>\u001b[1;34m\u001b[0m\n\u001b[0;32m      1\u001b[0m \u001b[1;31m#converting to one hot\u001b[0m\u001b[1;33m\u001b[0m\u001b[1;33m\u001b[0m\u001b[1;33m\u001b[0m\u001b[0m\n\u001b[0;32m      2\u001b[0m \u001b[1;32mfrom\u001b[0m \u001b[0mkeras\u001b[0m\u001b[1;33m.\u001b[0m\u001b[0mutils\u001b[0m\u001b[1;33m.\u001b[0m\u001b[0mnp_utils\u001b[0m \u001b[1;32mimport\u001b[0m \u001b[0mto_categorical\u001b[0m\u001b[1;33m\u001b[0m\u001b[1;33m\u001b[0m\u001b[0m\n\u001b[1;32m----> 3\u001b[1;33m \u001b[0my_train\u001b[0m \u001b[1;33m=\u001b[0m \u001b[0mto_categorical\u001b[0m\u001b[1;33m(\u001b[0m\u001b[0my_train\u001b[0m\u001b[1;33m,\u001b[0m \u001b[0mnum_classes\u001b[0m\u001b[1;33m=\u001b[0m\u001b[1;36m6\u001b[0m\u001b[1;33m)\u001b[0m\u001b[1;33m\u001b[0m\u001b[1;33m\u001b[0m\u001b[0m\n\u001b[0m\u001b[0;32m      4\u001b[0m \u001b[0my_test\u001b[0m \u001b[1;33m=\u001b[0m \u001b[0mto_categorical\u001b[0m\u001b[1;33m(\u001b[0m\u001b[0my_test\u001b[0m\u001b[1;33m,\u001b[0m \u001b[0mnum_classes\u001b[0m\u001b[1;33m=\u001b[0m\u001b[1;36m7\u001b[0m\u001b[1;33m)\u001b[0m\u001b[1;33m\u001b[0m\u001b[1;33m\u001b[0m\u001b[0m\n\u001b[0;32m      5\u001b[0m \u001b[0my_train\u001b[0m\u001b[1;33m.\u001b[0m\u001b[0mshape\u001b[0m\u001b[1;33m,\u001b[0m\u001b[0my_test\u001b[0m\u001b[1;33m.\u001b[0m\u001b[0mshape\u001b[0m\u001b[1;33m\u001b[0m\u001b[1;33m\u001b[0m\u001b[0m\n",
      "\u001b[1;32mC:\\ProgramData\\Anaconda3\\lib\\site-packages\\tensorflow\\python\\keras\\utils\\np_utils.py\u001b[0m in \u001b[0;36mto_categorical\u001b[1;34m(y, num_classes, dtype)\u001b[0m\n\u001b[0;32m     76\u001b[0m   \u001b[0mn\u001b[0m \u001b[1;33m=\u001b[0m \u001b[0my\u001b[0m\u001b[1;33m.\u001b[0m\u001b[0mshape\u001b[0m\u001b[1;33m[\u001b[0m\u001b[1;36m0\u001b[0m\u001b[1;33m]\u001b[0m\u001b[1;33m\u001b[0m\u001b[1;33m\u001b[0m\u001b[0m\n\u001b[0;32m     77\u001b[0m   \u001b[0mcategorical\u001b[0m \u001b[1;33m=\u001b[0m \u001b[0mnp\u001b[0m\u001b[1;33m.\u001b[0m\u001b[0mzeros\u001b[0m\u001b[1;33m(\u001b[0m\u001b[1;33m(\u001b[0m\u001b[0mn\u001b[0m\u001b[1;33m,\u001b[0m \u001b[0mnum_classes\u001b[0m\u001b[1;33m)\u001b[0m\u001b[1;33m,\u001b[0m \u001b[0mdtype\u001b[0m\u001b[1;33m=\u001b[0m\u001b[0mdtype\u001b[0m\u001b[1;33m)\u001b[0m\u001b[1;33m\u001b[0m\u001b[1;33m\u001b[0m\u001b[0m\n\u001b[1;32m---> 78\u001b[1;33m   \u001b[0mcategorical\u001b[0m\u001b[1;33m[\u001b[0m\u001b[0mnp\u001b[0m\u001b[1;33m.\u001b[0m\u001b[0marange\u001b[0m\u001b[1;33m(\u001b[0m\u001b[0mn\u001b[0m\u001b[1;33m)\u001b[0m\u001b[1;33m,\u001b[0m \u001b[0my\u001b[0m\u001b[1;33m]\u001b[0m \u001b[1;33m=\u001b[0m \u001b[1;36m1\u001b[0m\u001b[1;33m\u001b[0m\u001b[1;33m\u001b[0m\u001b[0m\n\u001b[0m\u001b[0;32m     79\u001b[0m   \u001b[0moutput_shape\u001b[0m \u001b[1;33m=\u001b[0m \u001b[0minput_shape\u001b[0m \u001b[1;33m+\u001b[0m \u001b[1;33m(\u001b[0m\u001b[0mnum_classes\u001b[0m\u001b[1;33m,\u001b[0m\u001b[1;33m)\u001b[0m\u001b[1;33m\u001b[0m\u001b[1;33m\u001b[0m\u001b[0m\n\u001b[0;32m     80\u001b[0m   \u001b[0mcategorical\u001b[0m \u001b[1;33m=\u001b[0m \u001b[0mnp\u001b[0m\u001b[1;33m.\u001b[0m\u001b[0mreshape\u001b[0m\u001b[1;33m(\u001b[0m\u001b[0mcategorical\u001b[0m\u001b[1;33m,\u001b[0m \u001b[0moutput_shape\u001b[0m\u001b[1;33m)\u001b[0m\u001b[1;33m\u001b[0m\u001b[1;33m\u001b[0m\u001b[0m\n",
      "\u001b[1;31mIndexError\u001b[0m: index 7 is out of bounds for axis 1 with size 6"
     ]
    }
   ],
   "source": [
    "#converting to one hot\n",
    "from keras.utils.np_utils import to_categorical\n",
    "y_train = to_categorical(y_train, num_classes=6)\n",
    "y_test = to_categorical(y_test, num_classes=7)\n",
    "y_train.shape,y_test.shape"
   ]
  },
  {
   "cell_type": "code",
   "execution_count": null,
   "metadata": {
    "colab": {
     "base_uri": "https://localhost:8080/",
     "height": 34
    },
    "colab_type": "code",
    "executionInfo": {
     "elapsed": 8571,
     "status": "ok",
     "timestamp": 1555477817409,
     "user": {
      "displayName": "Triloki Gupta",
      "photoUrl": "https://lh5.googleusercontent.com/-i5Q2Y1Fc3cc/AAAAAAAAAAI/AAAAAAAAHqI/ncYI5bgHpiQ/s64/photo.jpg",
      "userId": "02497753737384523015"
     },
     "user_tz": -330
    },
    "id": "i-tMprkrWKxh",
    "outputId": "fbe48ade-062b-422d-c82b-7b59cff2d12b"
   },
   "outputs": [],
   "source": [
    "#reshaping to 2D \n",
    "x_train=np.reshape(x_train,(x_train.shape[0], 36,5))\n",
    "x_test=np.reshape(x_test,(x_test.shape[0], 36,5))\n",
    "x_train.shape,x_test.shape"
   ]
  },
  {
   "cell_type": "code",
   "execution_count": null,
   "metadata": {
    "colab": {},
    "colab_type": "code",
    "id": "LW3GTIoqW_6w"
   },
   "outputs": [],
   "source": [
    "#reshaping to shape required by CNN\n",
    "x_train=np.reshape(x_train,(x_train.shape[0], 36,5,1))\n",
    "x_test=np.reshape(x_test,(x_test.shape[0], 36,5,1))"
   ]
  },
  {
   "cell_type": "code",
   "execution_count": null,
   "metadata": {
    "colab": {
     "base_uri": "https://localhost:8080/",
     "height": 34
    },
    "colab_type": "code",
    "executionInfo": {
     "elapsed": 8576,
     "status": "ok",
     "timestamp": 1555477817448,
     "user": {
      "displayName": "Triloki Gupta",
      "photoUrl": "https://lh5.googleusercontent.com/-i5Q2Y1Fc3cc/AAAAAAAAAAI/AAAAAAAAHqI/ncYI5bgHpiQ/s64/photo.jpg",
      "userId": "02497753737384523015"
     },
     "user_tz": -330
    },
    "id": "2Z3aLCfQXDvI",
    "outputId": "e808c7de-2b45-46c6-8cb9-76094bca6da0"
   },
   "outputs": [],
   "source": [
    "#shapes\n",
    "x_train.shape,x_test.shape"
   ]
  },
  {
   "cell_type": "code",
   "execution_count": 1,
   "metadata": {
    "colab": {
     "base_uri": "https://localhost:8080/",
     "height": 34
    },
    "colab_type": "code",
    "executionInfo": {
     "elapsed": 2326,
     "status": "ok",
     "timestamp": 1557376078027,
     "user": {
      "displayName": "Triloki Gupta",
      "photoUrl": "https://lh5.googleusercontent.com/-i5Q2Y1Fc3cc/AAAAAAAAAAI/AAAAAAAAHqI/ncYI5bgHpiQ/s64/photo.jpg",
      "userId": "02497753737384523015"
     },
     "user_tz": -330
    },
    "id": "IlsDCIvcXG4_",
    "outputId": "169e6847-16f8-4911-d91d-32c7773807fd"
   },
   "outputs": [],
   "source": [
    "from keras import Sequential\n",
    "from keras import optimizers\n",
    "from keras.layers import Dense,Conv2D,MaxPooling2D,Flatten,Dropout"
   ]
  },
  {
   "cell_type": "code",
   "execution_count": 2,
   "metadata": {
    "colab": {},
    "colab_type": "code",
    "id": "aHVKXbU7XK1Q"
   },
   "outputs": [],
   "source": [
    "#forming model\n",
    "model=Sequential()"
   ]
  },
  {
   "cell_type": "code",
   "execution_count": 5,
   "metadata": {
    "colab": {
     "base_uri": "https://localhost:8080/",
     "height": 139
    },
    "colab_type": "code",
    "executionInfo": {
     "elapsed": 2272,
     "status": "ok",
     "timestamp": 1557376078045,
     "user": {
      "displayName": "Triloki Gupta",
      "photoUrl": "https://lh5.googleusercontent.com/-i5Q2Y1Fc3cc/AAAAAAAAAAI/AAAAAAAAHqI/ncYI5bgHpiQ/s64/photo.jpg",
      "userId": "02497753737384523015"
     },
     "user_tz": -330
    },
    "id": "_vy2hr5EXNSQ",
    "outputId": "2806cea7-0c14-4229-9fe6-472acf0381fd"
   },
   "outputs": [
    {
     "ename": "ValueError",
     "evalue": "Input 0 of layer conv2d_2 is incompatible with the layer: : expected min_ndim=4, found ndim=2. Full shape received: (None, 9)",
     "output_type": "error",
     "traceback": [
      "\u001b[1;31m---------------------------------------------------------------------------\u001b[0m",
      "\u001b[1;31mValueError\u001b[0m                                Traceback (most recent call last)",
      "\u001b[1;32m<ipython-input-5-a1d7bebd6ba2>\u001b[0m in \u001b[0;36m<module>\u001b[1;34m\u001b[0m\n\u001b[0;32m      1\u001b[0m \u001b[1;31m#adding layers and forming the model\u001b[0m\u001b[1;33m\u001b[0m\u001b[1;33m\u001b[0m\u001b[1;33m\u001b[0m\u001b[0m\n\u001b[1;32m----> 2\u001b[1;33m \u001b[0mmodel\u001b[0m\u001b[1;33m.\u001b[0m\u001b[0madd\u001b[0m\u001b[1;33m(\u001b[0m\u001b[0mConv2D\u001b[0m\u001b[1;33m(\u001b[0m\u001b[1;36m64\u001b[0m\u001b[1;33m,\u001b[0m\u001b[0mkernel_size\u001b[0m\u001b[1;33m=\u001b[0m\u001b[1;36m5\u001b[0m\u001b[1;33m,\u001b[0m\u001b[0mstrides\u001b[0m\u001b[1;33m=\u001b[0m\u001b[1;36m1\u001b[0m\u001b[1;33m,\u001b[0m\u001b[0mpadding\u001b[0m\u001b[1;33m=\u001b[0m\u001b[1;34m\"Same\"\u001b[0m\u001b[1;33m,\u001b[0m\u001b[0mactivation\u001b[0m\u001b[1;33m=\u001b[0m\u001b[1;34m\"relu\"\u001b[0m\u001b[1;33m,\u001b[0m\u001b[0minput_shape\u001b[0m\u001b[1;33m=\u001b[0m\u001b[1;33m(\u001b[0m\u001b[1;36m36\u001b[0m\u001b[1;33m,\u001b[0m\u001b[1;36m5\u001b[0m\u001b[1;33m,\u001b[0m\u001b[1;36m1\u001b[0m\u001b[1;33m)\u001b[0m\u001b[1;33m)\u001b[0m\u001b[1;33m)\u001b[0m\u001b[1;33m\u001b[0m\u001b[1;33m\u001b[0m\u001b[0m\n\u001b[0m\u001b[0;32m      3\u001b[0m \u001b[0mmodel\u001b[0m\u001b[1;33m.\u001b[0m\u001b[0madd\u001b[0m\u001b[1;33m(\u001b[0m\u001b[0mMaxPooling2D\u001b[0m\u001b[1;33m(\u001b[0m\u001b[0mpadding\u001b[0m\u001b[1;33m=\u001b[0m\u001b[1;34m\"same\"\u001b[0m\u001b[1;33m)\u001b[0m\u001b[1;33m)\u001b[0m\u001b[1;33m\u001b[0m\u001b[1;33m\u001b[0m\u001b[0m\n\u001b[0;32m      4\u001b[0m \u001b[1;33m\u001b[0m\u001b[0m\n\u001b[0;32m      5\u001b[0m \u001b[0mmodel\u001b[0m\u001b[1;33m.\u001b[0m\u001b[0madd\u001b[0m\u001b[1;33m(\u001b[0m\u001b[0mConv2D\u001b[0m\u001b[1;33m(\u001b[0m\u001b[1;36m128\u001b[0m\u001b[1;33m,\u001b[0m\u001b[0mkernel_size\u001b[0m\u001b[1;33m=\u001b[0m\u001b[1;36m5\u001b[0m\u001b[1;33m,\u001b[0m\u001b[0mstrides\u001b[0m\u001b[1;33m=\u001b[0m\u001b[1;36m1\u001b[0m\u001b[1;33m,\u001b[0m\u001b[0mpadding\u001b[0m\u001b[1;33m=\u001b[0m\u001b[1;34m\"same\"\u001b[0m\u001b[1;33m,\u001b[0m\u001b[0mactivation\u001b[0m\u001b[1;33m=\u001b[0m\u001b[1;34m\"relu\"\u001b[0m\u001b[1;33m)\u001b[0m\u001b[1;33m)\u001b[0m\u001b[1;33m\u001b[0m\u001b[1;33m\u001b[0m\u001b[0m\n",
      "\u001b[1;32mC:\\ProgramData\\Anaconda3\\lib\\site-packages\\tensorflow\\python\\training\\tracking\\base.py\u001b[0m in \u001b[0;36m_method_wrapper\u001b[1;34m(self, *args, **kwargs)\u001b[0m\n\u001b[0;32m    515\u001b[0m     \u001b[0mself\u001b[0m\u001b[1;33m.\u001b[0m\u001b[0m_self_setattr_tracking\u001b[0m \u001b[1;33m=\u001b[0m \u001b[1;32mFalse\u001b[0m  \u001b[1;31m# pylint: disable=protected-access\u001b[0m\u001b[1;33m\u001b[0m\u001b[1;33m\u001b[0m\u001b[0m\n\u001b[0;32m    516\u001b[0m     \u001b[1;32mtry\u001b[0m\u001b[1;33m:\u001b[0m\u001b[1;33m\u001b[0m\u001b[1;33m\u001b[0m\u001b[0m\n\u001b[1;32m--> 517\u001b[1;33m       \u001b[0mresult\u001b[0m \u001b[1;33m=\u001b[0m \u001b[0mmethod\u001b[0m\u001b[1;33m(\u001b[0m\u001b[0mself\u001b[0m\u001b[1;33m,\u001b[0m \u001b[1;33m*\u001b[0m\u001b[0margs\u001b[0m\u001b[1;33m,\u001b[0m \u001b[1;33m**\u001b[0m\u001b[0mkwargs\u001b[0m\u001b[1;33m)\u001b[0m\u001b[1;33m\u001b[0m\u001b[1;33m\u001b[0m\u001b[0m\n\u001b[0m\u001b[0;32m    518\u001b[0m     \u001b[1;32mfinally\u001b[0m\u001b[1;33m:\u001b[0m\u001b[1;33m\u001b[0m\u001b[1;33m\u001b[0m\u001b[0m\n\u001b[0;32m    519\u001b[0m       \u001b[0mself\u001b[0m\u001b[1;33m.\u001b[0m\u001b[0m_self_setattr_tracking\u001b[0m \u001b[1;33m=\u001b[0m \u001b[0mprevious_value\u001b[0m  \u001b[1;31m# pylint: disable=protected-access\u001b[0m\u001b[1;33m\u001b[0m\u001b[1;33m\u001b[0m\u001b[0m\n",
      "\u001b[1;32mC:\\ProgramData\\Anaconda3\\lib\\site-packages\\tensorflow\\python\\keras\\engine\\sequential.py\u001b[0m in \u001b[0;36madd\u001b[1;34m(self, layer)\u001b[0m\n\u001b[0;32m    221\u001b[0m       \u001b[1;31m# If the model is being built continuously on top of an input layer:\u001b[0m\u001b[1;33m\u001b[0m\u001b[1;33m\u001b[0m\u001b[1;33m\u001b[0m\u001b[0m\n\u001b[0;32m    222\u001b[0m       \u001b[1;31m# refresh its output.\u001b[0m\u001b[1;33m\u001b[0m\u001b[1;33m\u001b[0m\u001b[1;33m\u001b[0m\u001b[0m\n\u001b[1;32m--> 223\u001b[1;33m       \u001b[0moutput_tensor\u001b[0m \u001b[1;33m=\u001b[0m \u001b[0mlayer\u001b[0m\u001b[1;33m(\u001b[0m\u001b[0mself\u001b[0m\u001b[1;33m.\u001b[0m\u001b[0moutputs\u001b[0m\u001b[1;33m[\u001b[0m\u001b[1;36m0\u001b[0m\u001b[1;33m]\u001b[0m\u001b[1;33m)\u001b[0m\u001b[1;33m\u001b[0m\u001b[1;33m\u001b[0m\u001b[0m\n\u001b[0m\u001b[0;32m    224\u001b[0m       \u001b[1;32mif\u001b[0m \u001b[0mlen\u001b[0m\u001b[1;33m(\u001b[0m\u001b[0mnest\u001b[0m\u001b[1;33m.\u001b[0m\u001b[0mflatten\u001b[0m\u001b[1;33m(\u001b[0m\u001b[0moutput_tensor\u001b[0m\u001b[1;33m)\u001b[0m\u001b[1;33m)\u001b[0m \u001b[1;33m!=\u001b[0m \u001b[1;36m1\u001b[0m\u001b[1;33m:\u001b[0m\u001b[1;33m\u001b[0m\u001b[1;33m\u001b[0m\u001b[0m\n\u001b[0;32m    225\u001b[0m         \u001b[1;32mraise\u001b[0m \u001b[0mValueError\u001b[0m\u001b[1;33m(\u001b[0m\u001b[0mSINGLE_LAYER_OUTPUT_ERROR_MSG\u001b[0m\u001b[1;33m)\u001b[0m\u001b[1;33m\u001b[0m\u001b[1;33m\u001b[0m\u001b[0m\n",
      "\u001b[1;32mC:\\ProgramData\\Anaconda3\\lib\\site-packages\\tensorflow\\python\\keras\\engine\\base_layer.py\u001b[0m in \u001b[0;36m__call__\u001b[1;34m(self, *args, **kwargs)\u001b[0m\n\u001b[0;32m    949\u001b[0m     \u001b[1;31m# >> model = tf.keras.Model(inputs, outputs)\u001b[0m\u001b[1;33m\u001b[0m\u001b[1;33m\u001b[0m\u001b[1;33m\u001b[0m\u001b[0m\n\u001b[0;32m    950\u001b[0m     \u001b[1;32mif\u001b[0m \u001b[0m_in_functional_construction_mode\u001b[0m\u001b[1;33m(\u001b[0m\u001b[0mself\u001b[0m\u001b[1;33m,\u001b[0m \u001b[0minputs\u001b[0m\u001b[1;33m,\u001b[0m \u001b[0margs\u001b[0m\u001b[1;33m,\u001b[0m \u001b[0mkwargs\u001b[0m\u001b[1;33m,\u001b[0m \u001b[0minput_list\u001b[0m\u001b[1;33m)\u001b[0m\u001b[1;33m:\u001b[0m\u001b[1;33m\u001b[0m\u001b[1;33m\u001b[0m\u001b[0m\n\u001b[1;32m--> 951\u001b[1;33m       return self._functional_construction_call(inputs, args, kwargs,\n\u001b[0m\u001b[0;32m    952\u001b[0m                                                 input_list)\n\u001b[0;32m    953\u001b[0m \u001b[1;33m\u001b[0m\u001b[0m\n",
      "\u001b[1;32mC:\\ProgramData\\Anaconda3\\lib\\site-packages\\tensorflow\\python\\keras\\engine\\base_layer.py\u001b[0m in \u001b[0;36m_functional_construction_call\u001b[1;34m(self, inputs, args, kwargs, input_list)\u001b[0m\n\u001b[0;32m   1088\u001b[0m           layer=self, inputs=inputs, build_graph=True, training=training_value):\n\u001b[0;32m   1089\u001b[0m         \u001b[1;31m# Check input assumptions set after layer building, e.g. input shape.\u001b[0m\u001b[1;33m\u001b[0m\u001b[1;33m\u001b[0m\u001b[1;33m\u001b[0m\u001b[0m\n\u001b[1;32m-> 1090\u001b[1;33m         outputs = self._keras_tensor_symbolic_call(\n\u001b[0m\u001b[0;32m   1091\u001b[0m             inputs, input_masks, args, kwargs)\n\u001b[0;32m   1092\u001b[0m \u001b[1;33m\u001b[0m\u001b[0m\n",
      "\u001b[1;32mC:\\ProgramData\\Anaconda3\\lib\\site-packages\\tensorflow\\python\\keras\\engine\\base_layer.py\u001b[0m in \u001b[0;36m_keras_tensor_symbolic_call\u001b[1;34m(self, inputs, input_masks, args, kwargs)\u001b[0m\n\u001b[0;32m    820\u001b[0m       \u001b[1;32mreturn\u001b[0m \u001b[0mnest\u001b[0m\u001b[1;33m.\u001b[0m\u001b[0mmap_structure\u001b[0m\u001b[1;33m(\u001b[0m\u001b[0mkeras_tensor\u001b[0m\u001b[1;33m.\u001b[0m\u001b[0mKerasTensor\u001b[0m\u001b[1;33m,\u001b[0m \u001b[0moutput_signature\u001b[0m\u001b[1;33m)\u001b[0m\u001b[1;33m\u001b[0m\u001b[1;33m\u001b[0m\u001b[0m\n\u001b[0;32m    821\u001b[0m     \u001b[1;32melse\u001b[0m\u001b[1;33m:\u001b[0m\u001b[1;33m\u001b[0m\u001b[1;33m\u001b[0m\u001b[0m\n\u001b[1;32m--> 822\u001b[1;33m       \u001b[1;32mreturn\u001b[0m \u001b[0mself\u001b[0m\u001b[1;33m.\u001b[0m\u001b[0m_infer_output_signature\u001b[0m\u001b[1;33m(\u001b[0m\u001b[0minputs\u001b[0m\u001b[1;33m,\u001b[0m \u001b[0margs\u001b[0m\u001b[1;33m,\u001b[0m \u001b[0mkwargs\u001b[0m\u001b[1;33m,\u001b[0m \u001b[0minput_masks\u001b[0m\u001b[1;33m)\u001b[0m\u001b[1;33m\u001b[0m\u001b[1;33m\u001b[0m\u001b[0m\n\u001b[0m\u001b[0;32m    823\u001b[0m \u001b[1;33m\u001b[0m\u001b[0m\n\u001b[0;32m    824\u001b[0m   \u001b[1;32mdef\u001b[0m \u001b[0m_infer_output_signature\u001b[0m\u001b[1;33m(\u001b[0m\u001b[0mself\u001b[0m\u001b[1;33m,\u001b[0m \u001b[0minputs\u001b[0m\u001b[1;33m,\u001b[0m \u001b[0margs\u001b[0m\u001b[1;33m,\u001b[0m \u001b[0mkwargs\u001b[0m\u001b[1;33m,\u001b[0m \u001b[0minput_masks\u001b[0m\u001b[1;33m)\u001b[0m\u001b[1;33m:\u001b[0m\u001b[1;33m\u001b[0m\u001b[1;33m\u001b[0m\u001b[0m\n",
      "\u001b[1;32mC:\\ProgramData\\Anaconda3\\lib\\site-packages\\tensorflow\\python\\keras\\engine\\base_layer.py\u001b[0m in \u001b[0;36m_infer_output_signature\u001b[1;34m(self, inputs, args, kwargs, input_masks)\u001b[0m\n\u001b[0;32m    860\u001b[0m           \u001b[1;31m# overridden).\u001b[0m\u001b[1;33m\u001b[0m\u001b[1;33m\u001b[0m\u001b[1;33m\u001b[0m\u001b[0m\n\u001b[0;32m    861\u001b[0m           \u001b[1;31m# TODO(kaftan): do we maybe_build here, or have we already done it?\u001b[0m\u001b[1;33m\u001b[0m\u001b[1;33m\u001b[0m\u001b[1;33m\u001b[0m\u001b[0m\n\u001b[1;32m--> 862\u001b[1;33m           \u001b[0mself\u001b[0m\u001b[1;33m.\u001b[0m\u001b[0m_maybe_build\u001b[0m\u001b[1;33m(\u001b[0m\u001b[0minputs\u001b[0m\u001b[1;33m)\u001b[0m\u001b[1;33m\u001b[0m\u001b[1;33m\u001b[0m\u001b[0m\n\u001b[0m\u001b[0;32m    863\u001b[0m           \u001b[0moutputs\u001b[0m \u001b[1;33m=\u001b[0m \u001b[0mcall_fn\u001b[0m\u001b[1;33m(\u001b[0m\u001b[0minputs\u001b[0m\u001b[1;33m,\u001b[0m \u001b[1;33m*\u001b[0m\u001b[0margs\u001b[0m\u001b[1;33m,\u001b[0m \u001b[1;33m**\u001b[0m\u001b[0mkwargs\u001b[0m\u001b[1;33m)\u001b[0m\u001b[1;33m\u001b[0m\u001b[1;33m\u001b[0m\u001b[0m\n\u001b[0;32m    864\u001b[0m \u001b[1;33m\u001b[0m\u001b[0m\n",
      "\u001b[1;32mC:\\ProgramData\\Anaconda3\\lib\\site-packages\\tensorflow\\python\\keras\\engine\\base_layer.py\u001b[0m in \u001b[0;36m_maybe_build\u001b[1;34m(self, inputs)\u001b[0m\n\u001b[0;32m   2682\u001b[0m     \u001b[1;31m# Check input assumptions set before layer building, e.g. input rank.\u001b[0m\u001b[1;33m\u001b[0m\u001b[1;33m\u001b[0m\u001b[1;33m\u001b[0m\u001b[0m\n\u001b[0;32m   2683\u001b[0m     \u001b[1;32mif\u001b[0m \u001b[1;32mnot\u001b[0m \u001b[0mself\u001b[0m\u001b[1;33m.\u001b[0m\u001b[0mbuilt\u001b[0m\u001b[1;33m:\u001b[0m\u001b[1;33m\u001b[0m\u001b[1;33m\u001b[0m\u001b[0m\n\u001b[1;32m-> 2684\u001b[1;33m       input_spec.assert_input_compatibility(\n\u001b[0m\u001b[0;32m   2685\u001b[0m           self.input_spec, inputs, self.name)\n\u001b[0;32m   2686\u001b[0m       \u001b[0minput_list\u001b[0m \u001b[1;33m=\u001b[0m \u001b[0mnest\u001b[0m\u001b[1;33m.\u001b[0m\u001b[0mflatten\u001b[0m\u001b[1;33m(\u001b[0m\u001b[0minputs\u001b[0m\u001b[1;33m)\u001b[0m\u001b[1;33m\u001b[0m\u001b[1;33m\u001b[0m\u001b[0m\n",
      "\u001b[1;32mC:\\ProgramData\\Anaconda3\\lib\\site-packages\\tensorflow\\python\\keras\\engine\\input_spec.py\u001b[0m in \u001b[0;36massert_input_compatibility\u001b[1;34m(input_spec, inputs, layer_name)\u001b[0m\n\u001b[0;32m    232\u001b[0m       \u001b[0mndim\u001b[0m \u001b[1;33m=\u001b[0m \u001b[0mx\u001b[0m\u001b[1;33m.\u001b[0m\u001b[0mshape\u001b[0m\u001b[1;33m.\u001b[0m\u001b[0mrank\u001b[0m\u001b[1;33m\u001b[0m\u001b[1;33m\u001b[0m\u001b[0m\n\u001b[0;32m    233\u001b[0m       \u001b[1;32mif\u001b[0m \u001b[0mndim\u001b[0m \u001b[1;32mis\u001b[0m \u001b[1;32mnot\u001b[0m \u001b[1;32mNone\u001b[0m \u001b[1;32mand\u001b[0m \u001b[0mndim\u001b[0m \u001b[1;33m<\u001b[0m \u001b[0mspec\u001b[0m\u001b[1;33m.\u001b[0m\u001b[0mmin_ndim\u001b[0m\u001b[1;33m:\u001b[0m\u001b[1;33m\u001b[0m\u001b[1;33m\u001b[0m\u001b[0m\n\u001b[1;32m--> 234\u001b[1;33m         raise ValueError('Input ' + str(input_index) + ' of layer ' +\n\u001b[0m\u001b[0;32m    235\u001b[0m                          \u001b[0mlayer_name\u001b[0m \u001b[1;33m+\u001b[0m \u001b[1;34m' is incompatible with the layer: '\u001b[0m\u001b[1;33m\u001b[0m\u001b[1;33m\u001b[0m\u001b[0m\n\u001b[0;32m    236\u001b[0m                          \u001b[1;34m': expected min_ndim='\u001b[0m \u001b[1;33m+\u001b[0m \u001b[0mstr\u001b[0m\u001b[1;33m(\u001b[0m\u001b[0mspec\u001b[0m\u001b[1;33m.\u001b[0m\u001b[0mmin_ndim\u001b[0m\u001b[1;33m)\u001b[0m \u001b[1;33m+\u001b[0m\u001b[1;33m\u001b[0m\u001b[1;33m\u001b[0m\u001b[0m\n",
      "\u001b[1;31mValueError\u001b[0m: Input 0 of layer conv2d_2 is incompatible with the layer: : expected min_ndim=4, found ndim=2. Full shape received: (None, 9)"
     ]
    }
   ],
   "source": [
    "#adding layers and forming the model\n",
    "model.add(Conv2D(64,kernel_size=5,strides=1,padding=\"Same\",activation=\"relu\",input_shape=(36,5,1)))\n",
    "model.add(MaxPooling2D(padding=\"same\"))\n",
    "\n",
    "model.add(Conv2D(128,kernel_size=5,strides=1,padding=\"same\",activation=\"relu\"))\n",
    "model.add(MaxPooling2D(padding=\"same\"))\n",
    "model.add(Dropout(0.3))\n",
    "\n",
    "model.add(Flatten())\n",
    "\n",
    "model.add(Dense(256,activation=\"relu\"))\n",
    "model.add(Dropout(0.3))\n",
    "\n",
    "model.add(Dense(512,activation=\"relu\"))\n",
    "model.add(Dropout(0.3))\n",
    "\n",
    "model.add(Dense(9,activation=\"softmax\"))"
   ]
  },
  {
   "cell_type": "code",
   "execution_count": 4,
   "metadata": {
    "colab": {},
    "colab_type": "code",
    "id": "xhez5lbl2Ucm"
   },
   "outputs": [
    {
     "name": "stdout",
     "output_type": "stream",
     "text": [
      "('Failed to import pydot. You must `pip install pydot` and install graphviz (https://graphviz.gitlab.io/download/), ', 'for `pydotprint` to work.')\n"
     ]
    }
   ],
   "source": [
    "from keras.utils import plot_model\n",
    "plot_model(model, to_file='CNNmodel.png')"
   ]
  },
  {
   "cell_type": "code",
   "execution_count": null,
   "metadata": {
    "colab": {},
    "colab_type": "code",
    "id": "ouB2eVS6XRZg"
   },
   "outputs": [],
   "source": [
    "#compiling\n",
    "model.compile(optimizer=optimizers.Adam(lr=0.001),\n",
    "              loss=\"categorical_crossentropy\",\n",
    "              metrics=[\"accuracy\"])"
   ]
  },
  {
   "cell_type": "code",
   "execution_count": null,
   "metadata": {
    "colab": {
     "base_uri": "https://localhost:8080/",
     "height": 615
    },
    "colab_type": "code",
    "executionInfo": {
     "elapsed": 94288,
     "status": "ok",
     "timestamp": 1555477903203,
     "user": {
      "displayName": "Triloki Gupta",
      "photoUrl": "https://lh5.googleusercontent.com/-i5Q2Y1Fc3cc/AAAAAAAAAAI/AAAAAAAAHqI/ncYI5bgHpiQ/s64/photo.jpg",
      "userId": "02497753737384523015"
     },
     "user_tz": -330
    },
    "id": "RsAgf-JFXVVv",
    "outputId": "b758d3a1-6bbc-4c90-e06c-2a5ed1c63af5"
   },
   "outputs": [],
   "source": [
    "#training the model\n",
    "history = model.fit(x_train,y_train,batch_size=50,epochs=15,validation_data=(x_test,y_test))"
   ]
  },
  {
   "cell_type": "code",
   "execution_count": null,
   "metadata": {
    "colab": {},
    "colab_type": "code",
    "id": "fLb2KXI9ddSW"
   },
   "outputs": [],
   "source": [
    "#Saving the model\n",
    "import h5py\n",
    "model.save('CNNmodel.h5')\n"
   ]
  },
  {
   "cell_type": "code",
   "execution_count": null,
   "metadata": {
    "colab": {
     "base_uri": "https://localhost:8080/",
     "height": 573
    },
    "colab_type": "code",
    "executionInfo": {
     "elapsed": 99179,
     "status": "ok",
     "timestamp": 1555477908128,
     "user": {
      "displayName": "Triloki Gupta",
      "photoUrl": "https://lh5.googleusercontent.com/-i5Q2Y1Fc3cc/AAAAAAAAAAI/AAAAAAAAHqI/ncYI5bgHpiQ/s64/photo.jpg",
      "userId": "02497753737384523015"
     },
     "user_tz": -330
    },
    "id": "zU5NFMaVXYtf",
    "outputId": "7f98d007-a9d9-4b07-bd1d-dd07fbae72be"
   },
   "outputs": [],
   "source": [
    "import matplotlib.pyplot as plt\n",
    "\n",
    "\n",
    "# Plot training & validation accuracy values\n",
    "plt.plot(history.history['acc'])\n",
    "plt.plot(history.history['val_acc'])\n",
    "plt.title('Model accuracy')\n",
    "plt.ylabel('Accuracy')\n",
    "plt.xlabel('Epoch')\n",
    "plt.legend(['Train', 'Test'], loc='upper left')\n",
    "plt.show()\n",
    "\n",
    "# Plot training & validation loss values\n",
    "plt.plot(history.history['loss'])\n",
    "plt.plot(history.history['val_loss'])\n",
    "plt.title('Model loss')\n",
    "plt.ylabel('Loss')\n",
    "plt.xlabel('Epoch')\n",
    "plt.legend(['Train', 'Test'], loc='upper left')\n",
    "plt.show()"
   ]
  },
  {
   "cell_type": "code",
   "execution_count": null,
   "metadata": {
    "colab": {
     "base_uri": "https://localhost:8080/",
     "height": 85
    },
    "colab_type": "code",
    "executionInfo": {
     "elapsed": 100424,
     "status": "ok",
     "timestamp": 1555477909399,
     "user": {
      "displayName": "Triloki Gupta",
      "photoUrl": "https://lh5.googleusercontent.com/-i5Q2Y1Fc3cc/AAAAAAAAAAI/AAAAAAAAHqI/ncYI5bgHpiQ/s64/photo.jpg",
      "userId": "02497753737384523015"
     },
     "user_tz": -330
    },
    "id": "jHOQuFriXkOv",
    "outputId": "dff21a57-2020-45b4-d3b0-36b795b97557"
   },
   "outputs": [],
   "source": [
    "#train and test loss and scores respectively\n",
    "train_loss_score=model.evaluate(x_train,y_train)\n",
    "test_loss_score=model.evaluate(x_test,y_test)\n",
    "print(train_loss_score)\n",
    "print(test_loss_score)"
   ]
  },
  {
   "cell_type": "code",
   "execution_count": null,
   "metadata": {
    "colab": {},
    "colab_type": "code",
    "id": "9WnF7oCnXn-4"
   },
   "outputs": [],
   "source": [
    "from keras.utils import plot_model\n",
    "plot_model(model, to_file='CNNmodel.png')"
   ]
  },
  {
   "cell_type": "code",
   "execution_count": null,
   "metadata": {
    "colab": {
     "base_uri": "https://localhost:8080/",
     "height": 51
    },
    "colab_type": "code",
    "executionInfo": {
     "elapsed": 115912,
     "status": "ok",
     "timestamp": 1555477924923,
     "user": {
      "displayName": "Triloki Gupta",
      "photoUrl": "https://lh5.googleusercontent.com/-i5Q2Y1Fc3cc/AAAAAAAAAAI/AAAAAAAAHqI/ncYI5bgHpiQ/s64/photo.jpg",
      "userId": "02497753737384523015"
     },
     "user_tz": -330
    },
    "id": "etROQfzGYc1j",
    "outputId": "ad22ca6c-06ca-458b-94e8-14f6bf23978d"
   },
   "outputs": [],
   "source": [
    "from keras.models import load_model\n",
    "model1 = load_model(\"CNNmodel.h5\")\n",
    "model1.predict(np.array([[[[-3.00499673e+02],\n",
    "        [ 1.36931119e+02],\n",
    "        [ 4.03548234e+00],\n",
    "        [ 2.47518033e+01],\n",
    "        [ 8.44999006e+00]],\n",
    "\n",
    "       [[-1.01582781e+01],\n",
    "        [-1.86806059e+01],\n",
    "        [ 7.76407684e+00],\n",
    "        [-9.37454342e+00],\n",
    "        [-1.05834682e+01]],\n",
    "\n",
    "       [[-1.84876587e+01],\n",
    "        [-7.47740311e+00],\n",
    "        [ 2.78753178e+00],\n",
    "        [-3.83961446e+00],\n",
    "        [-1.10572171e+00]],\n",
    "\n",
    "       [[-1.01496667e+01],\n",
    "        [-8.34019445e+00],\n",
    "        [ 2.93267311e+00],\n",
    "        [ 3.46082639e+00],\n",
    "        [-1.01875592e+01]],\n",
    "\n",
    "       [[ 3.89658378e-01],\n",
    "        [ 3.90362120e+00],\n",
    "        [-2.52822280e+00],\n",
    "        [ 5.60914917e-01],\n",
    "        [-3.74564010e+00]],\n",
    "\n",
    "       [[-5.08472937e+00],\n",
    "        [-6.60170238e+00],\n",
    "        [-4.29819088e+00],\n",
    "        [-7.07954429e+00],\n",
    "        [-4.98776066e+00]],\n",
    "\n",
    "       [[-1.88661317e+00],\n",
    "        [-3.70660242e+00],\n",
    "        [-2.99467230e+00],\n",
    "        [-7.86487040e-01],\n",
    "        [-6.07440708e-01]],\n",
    "\n",
    "       [[-2.41172365e+00],\n",
    "        [ 3.61592663e+00],\n",
    "        [ 2.88720695e+00],\n",
    "        [ 1.97075658e+00],\n",
    "        [ 2.83481063e+00]],\n",
    "\n",
    "       [[ 2.20221400e-01],\n",
    "        [ 8.69461143e+00],\n",
    "        [ 8.35823688e+00],\n",
    "        [ 3.19743871e+01],\n",
    "        [ 5.62331249e+01]],\n",
    "\n",
    "       [[ 7.71442843e+00],\n",
    "        [ 4.58125600e+00],\n",
    "        [ 1.12681572e+01],\n",
    "        [ 6.82905347e+00],\n",
    "        [ 3.37450530e+00]],\n",
    "\n",
    "       [[ 2.34916101e+00],\n",
    "        [ 3.53016058e+00],\n",
    "        [ 8.41169823e-01],\n",
    "        [ 2.48993596e-01],\n",
    "        [ 1.62597398e-01]],\n",
    "\n",
    "       [[ 9.28277812e-02],\n",
    "        [ 1.81731287e-02],\n",
    "        [ 1.28406979e-02],\n",
    "        [ 3.89755188e-02],\n",
    "        [ 2.13423184e-01]],\n",
    "\n",
    "       [[ 4.51219132e-01],\n",
    "        [ 5.23991775e-01],\n",
    "        [ 9.86033482e-02],\n",
    "        [ 1.09243579e-01],\n",
    "        [ 2.23706050e-01]],\n",
    "\n",
    "       [[ 1.06159804e-01],\n",
    "        [ 4.16133198e-02],\n",
    "        [ 9.44891682e-03],\n",
    "        [ 9.28247383e-03],\n",
    "        [ 3.77997307e-02]],\n",
    "\n",
    "       [[ 1.42107312e-02],\n",
    "        [ 6.52107558e-03],\n",
    "        [ 3.53146007e-03],\n",
    "        [ 3.64274585e-03],\n",
    "        [ 3.24093906e-03]],\n",
    "\n",
    "       [[ 2.86044276e-03],\n",
    "        [ 2.10601783e-03],\n",
    "        [ 2.56884734e-03],\n",
    "        [ 4.04202840e-03],\n",
    "        [ 3.86364227e-03]],\n",
    "\n",
    "       [[ 2.23182623e-01],\n",
    "        [ 2.11825897e-01],\n",
    "        [ 1.84287816e-01],\n",
    "        [ 1.69398597e-01],\n",
    "        [ 1.50937440e-01]],\n",
    "\n",
    "       [[ 1.35015681e-01],\n",
    "        [ 1.49409713e-01],\n",
    "        [ 1.58473255e-01],\n",
    "        [ 1.56249165e-01],\n",
    "        [ 1.49747977e-01]],\n",
    "\n",
    "       [[ 1.73892090e-01],\n",
    "        [ 1.92957204e-01],\n",
    "        [ 2.11111250e-01],\n",
    "        [ 2.25965348e-01],\n",
    "        [ 2.28771199e-01]],\n",
    "\n",
    "       [[ 2.37077250e-01],\n",
    "        [ 2.55080978e-01],\n",
    "        [ 2.56351529e-01],\n",
    "        [ 2.62550911e-01],\n",
    "        [ 2.90803562e-01]],\n",
    "\n",
    "       [[ 3.18791162e-01],\n",
    "        [ 3.52151941e-01],\n",
    "        [ 4.04230324e-01],\n",
    "        [ 3.78275776e-01],\n",
    "        [ 2.79412929e-01]],\n",
    "\n",
    "       [[ 2.20193296e-01],\n",
    "        [ 2.05710848e-01],\n",
    "        [ 1.92660654e-01],\n",
    "        [ 2.03968750e-01],\n",
    "        [ 2.29310519e-01]],\n",
    "\n",
    "       [[ 2.34554144e-01],\n",
    "        [ 2.44286799e-01],\n",
    "        [ 2.45702224e-01],\n",
    "        [ 2.28811289e-01],\n",
    "        [ 2.23805829e-01]],\n",
    "\n",
    "       [[ 2.25897297e-01],\n",
    "        [ 2.26025852e-01],\n",
    "        [ 2.25510820e-01],\n",
    "        [ 2.15367175e-01],\n",
    "        [ 2.15625256e-01]],\n",
    "\n",
    "       [[ 2.29430223e-01],\n",
    "        [ 2.54413450e-01],\n",
    "        [ 2.72041289e-01],\n",
    "        [ 2.67017691e-01],\n",
    "        [ 2.78127559e-01]],\n",
    "\n",
    "       [[ 3.12533290e-01],\n",
    "        [ 3.40901653e-01],\n",
    "        [ 3.25225786e-01],\n",
    "        [ 3.50289437e-01],\n",
    "        [ 3.74988119e-01]],\n",
    "\n",
    "       [[ 4.03672488e-01],\n",
    "        [ 3.66400465e-01],\n",
    "        [ 3.80877165e-01],\n",
    "        [ 3.86673757e-01],\n",
    "        [ 4.04157498e-01]],\n",
    "\n",
    "       [[ 4.59970915e-01],\n",
    "        [ 4.76089854e-01],\n",
    "        [ 3.49845837e-01],\n",
    "        [ 2.99756017e-01],\n",
    "        [ 2.96226526e-01]],\n",
    "\n",
    "       [[ 2.61816636e-01],\n",
    "        [ 2.58019059e-01],\n",
    "        [ 2.70955722e-01],\n",
    "        [ 2.86918411e-01],\n",
    "        [ 3.57082269e-01]],\n",
    "\n",
    "       [[ 4.00690480e-01],\n",
    "        [ 2.89784055e-01],\n",
    "        [ 2.57219861e-01],\n",
    "        [ 2.78618350e-01],\n",
    "        [ 2.68552212e-01]],\n",
    "\n",
    "       [[ 2.82405676e-01],\n",
    "        [ 2.84077913e-01],\n",
    "        [ 2.87854424e-01],\n",
    "        [ 2.69554179e-01],\n",
    "        [ 2.73079823e-01]],\n",
    "\n",
    "       [[ 2.70264000e-01],\n",
    "        [ 2.77437271e-01],\n",
    "        [ 2.56117782e-01],\n",
    "        [ 2.32912518e-01],\n",
    "        [ 2.05372664e-01]],\n",
    "\n",
    "       [[ 0.00000000e+00],\n",
    "        [ 9.15097765e-03],\n",
    "        [ 5.32017396e-02],\n",
    "        [ 5.11547211e-02],\n",
    "        [ 4.27979325e-02]],\n",
    "\n",
    "       [[ 6.06682479e-02],\n",
    "        [ 8.71309659e-02],\n",
    "        [ 7.90213361e-02],\n",
    "        [ 1.19738799e-01],\n",
    "        [ 1.36607403e-01]],\n",
    "\n",
    "       [[ 1.45769580e-01],\n",
    "        [ 1.36038219e-01],\n",
    "        [ 1.57849678e-01],\n",
    "        [ 1.80330420e-01],\n",
    "        [ 1.72657567e-01]],\n",
    "\n",
    "       [[ 2.14932672e-01],\n",
    "        [ 2.42964285e-01],\n",
    "        [ 1.54559298e-01],\n",
    "        [ 9.58881329e-02],\n",
    "        [ 1.15387490e-01]],\n",
    "\n",
    "       [[ 9.62127352e-02],\n",
    "        [ 6.92097608e-02],\n",
    "        [ 5.82465128e-02],\n",
    "        [ 6.12430140e-02],\n",
    "        [ 7.98067148e-02]],\n",
    "\n",
    "       [[ 1.68606670e-01],\n",
    "        [ 2.29832331e-02],\n",
    "        [ 2.30818252e-02],\n",
    "        [ 3.98545107e-02],\n",
    "        [ 4.91249957e-02]],\n",
    "\n",
    "       [[ 6.12997007e-02],\n",
    "        [ 7.82387234e-02],\n",
    "        [ 5.29399999e-02],\n",
    "        [ 3.51401740e-02],\n",
    "        [ 2.50030043e-02]],\n",
    "\n",
    "       [[ 3.98116052e-02],\n",
    "        [ 4.29755847e-02],\n",
    "        [ 3.72783318e-03],\n",
    "        [ 3.68877456e-03],\n",
    "        [ 0.00000000e+00]]]]))"
   ]
  },
  {
   "cell_type": "code",
   "execution_count": null,
   "metadata": {
    "colab": {
     "base_uri": "https://localhost:8080/",
     "height": 4080
    },
    "colab_type": "code",
    "executionInfo": {
     "elapsed": 115898,
     "status": "ok",
     "timestamp": 1555477924928,
     "user": {
      "displayName": "Triloki Gupta",
      "photoUrl": "https://lh5.googleusercontent.com/-i5Q2Y1Fc3cc/AAAAAAAAAAI/AAAAAAAAHqI/ncYI5bgHpiQ/s64/photo.jpg",
      "userId": "02497753737384523015"
     },
     "user_tz": -330
    },
    "id": "F7OIhkeperfC",
    "outputId": "dbeaf1d2-f4a5-4cb8-ebba-734ca2524a23"
   },
   "outputs": [],
   "source": [
    "x_test[0]"
   ]
  },
  {
   "cell_type": "code",
   "execution_count": null,
   "metadata": {
    "colab": {},
    "colab_type": "code",
    "id": "V-kf7R9-qfdS"
   },
   "outputs": [],
   "source": []
  }
 ],
 "metadata": {
  "colab": {
   "name": "CNN_Model.ipynb",
   "provenance": [],
   "version": "0.3.2"
  },
  "kernelspec": {
   "display_name": "Python 3",
   "language": "python",
   "name": "python3"
  },
  "language_info": {
   "codemirror_mode": {
    "name": "ipython",
    "version": 3
   },
   "file_extension": ".py",
   "mimetype": "text/x-python",
   "name": "python",
   "nbconvert_exporter": "python",
   "pygments_lexer": "ipython3",
   "version": "3.8.5"
  }
 },
 "nbformat": 4,
 "nbformat_minor": 1
}
