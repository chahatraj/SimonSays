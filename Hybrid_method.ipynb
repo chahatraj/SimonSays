{
  "nbformat": 4,
  "nbformat_minor": 0,
  "metadata": {
    "colab": {
      "name": "Hybrid method.ipynb",
      "provenance": [],
      "collapsed_sections": [],
      "toc_visible": true
    },
    "kernelspec": {
      "name": "python3",
      "display_name": "Python 3"
    },
    "language_info": {
      "name": "python"
    }
  },
  "cells": [
    {
      "cell_type": "markdown",
      "metadata": {
        "id": "0EwHYKgkeY2k"
      },
      "source": [
        "# **CNN**"
      ]
    },
    {
      "cell_type": "code",
      "metadata": {
        "id": "NHJ3BYMSePtb"
      },
      "source": [
        "import numpy as np"
      ],
      "execution_count": null,
      "outputs": []
    },
    {
      "cell_type": "code",
      "metadata": {
        "id": "xIBOIhL7ecdQ"
      },
      "source": [
        "#extracting data from csv files into numpy arrays\n",
        "from numpy import genfromtxt\n",
        "x_train = genfromtxt('train_data1.csv', delimiter=',')\n",
        "y_train = genfromtxt('train_labels1.csv', delimiter=',')\n",
        "x_test = genfromtxt('test_data1.csv', delimiter=',')\n",
        "y_test = genfromtxt('test_labels1.csv', delimiter=',')"
      ],
      "execution_count": null,
      "outputs": []
    },
    {
      "cell_type": "code",
      "metadata": {
        "colab": {
          "base_uri": "https://localhost:8080/"
        },
        "id": "8rY4QLW-einS",
        "outputId": "0036f8fd-b732-4ea4-e2c7-6a8279618a1e"
      },
      "source": [
        "#shape\n",
        "x_train.shape,x_test.shape,y_train.shape,y_test.shape"
      ],
      "execution_count": null,
      "outputs": [
        {
          "output_type": "execute_result",
          "data": {
            "text/plain": [
              "((108, 180), (27, 180), (108,), (27,))"
            ]
          },
          "metadata": {
            "tags": []
          },
          "execution_count": 5
        }
      ]
    },
    {
      "cell_type": "code",
      "metadata": {
        "colab": {
          "base_uri": "https://localhost:8080/"
        },
        "id": "3PRJq2oIelhO",
        "outputId": "bdbcbe70-e802-48b4-938f-4594be71ae4f"
      },
      "source": [
        "#converting to one hot\n",
        "from keras.utils.np_utils import to_categorical\n",
        "y_train = to_categorical(y_train, num_classes=9)\n",
        "y_test = to_categorical(y_test, num_classes=9)\n",
        "y_train.shape,y_test.shape"
      ],
      "execution_count": null,
      "outputs": [
        {
          "output_type": "execute_result",
          "data": {
            "text/plain": [
              "((108, 9), (27, 9))"
            ]
          },
          "metadata": {
            "tags": []
          },
          "execution_count": 6
        }
      ]
    },
    {
      "cell_type": "code",
      "metadata": {
        "colab": {
          "base_uri": "https://localhost:8080/"
        },
        "id": "IFlZxW1lenc8",
        "outputId": "defca2de-cab9-4b4b-cb3c-acfd03465302"
      },
      "source": [
        "#reshaping to 2D \n",
        "x_train=np.reshape(x_train,(x_train.shape[0], 36,5))\n",
        "x_test=np.reshape(x_test,(x_test.shape[0], 36,5))\n",
        "x_train.shape,x_test.shape"
      ],
      "execution_count": null,
      "outputs": [
        {
          "output_type": "execute_result",
          "data": {
            "text/plain": [
              "((108, 36, 5), (27, 36, 5))"
            ]
          },
          "metadata": {
            "tags": []
          },
          "execution_count": 7
        }
      ]
    },
    {
      "cell_type": "code",
      "metadata": {
        "id": "P8oOBCEReq0o"
      },
      "source": [
        "#reshaping to shape required by CNN\n",
        "x_train1=np.reshape(x_train,(x_train.shape[0], 36,5,1))\n",
        "x_test1=np.reshape(x_test,(x_test.shape[0], 36,5,1))"
      ],
      "execution_count": null,
      "outputs": []
    },
    {
      "cell_type": "code",
      "metadata": {
        "colab": {
          "base_uri": "https://localhost:8080/"
        },
        "id": "oJPOe0DEewqJ",
        "outputId": "c3b2ed8b-3c85-4702-c2d1-76826883d6d4"
      },
      "source": [
        "#shapes\n",
        "x_train1.shape,x_test1.shape"
      ],
      "execution_count": null,
      "outputs": [
        {
          "output_type": "execute_result",
          "data": {
            "text/plain": [
              "((108, 36, 5, 1), (27, 36, 5, 1))"
            ]
          },
          "metadata": {
            "tags": []
          },
          "execution_count": 9
        }
      ]
    },
    {
      "cell_type": "code",
      "metadata": {
        "id": "0hNhG_wHe3wN"
      },
      "source": [
        "from keras import Sequential\n",
        "from keras import optimizers\n",
        "from keras.layers import Dense,Conv2D,MaxPooling2D,Flatten,Dropout, LSTM"
      ],
      "execution_count": null,
      "outputs": []
    },
    {
      "cell_type": "code",
      "metadata": {
        "id": "xxLKvwRJe4Hi"
      },
      "source": [
        "#adding layers and forming the model\n",
        "model = Sequential()\n",
        "model.add(Conv2D(64,kernel_size=5,strides=1,padding=\"Same\",activation=\"relu\",input_shape=(36,5,1)))\n",
        "model.add(MaxPooling2D(padding=\"same\"))\n",
        "\n",
        "model.add(Conv2D(128,kernel_size=5,strides=1,padding=\"same\",activation=\"relu\"))\n",
        "model.add(MaxPooling2D(padding=\"same\"))\n",
        "model.add(Dropout(0.3))\n",
        "\n",
        "\n",
        "model.add(Dense(64,activation=\"relu\"))\n",
        "model.add(Dropout(0.3))\n",
        "\n",
        "model.add(Dense(32,activation=\"relu\"))\n",
        "model.add(Dropout(0.3))\n",
        "\n",
        "model.add(Flatten())\n",
        "\n",
        "#model.add(Dense(9,activation=\"softmax\"))"
      ],
      "execution_count": null,
      "outputs": []
    },
    {
      "cell_type": "markdown",
      "metadata": {
        "id": "YUmsOge_fS7r"
      },
      "source": [
        "# **LSTM**"
      ]
    },
    {
      "cell_type": "code",
      "metadata": {
        "id": "2eLgQENefFNc"
      },
      "source": [
        "from keras import Sequential\n",
        "from keras import optimizers\n",
        "from keras.layers import Dense,Dropout,Activation,LSTM,SimpleRNN, Conv2D, MaxPooling2D, Conv1D, MaxPooling1D, Flatten, Concatenate"
      ],
      "execution_count": null,
      "outputs": []
    },
    {
      "cell_type": "code",
      "metadata": {
        "id": "LkkqWGkdf3JG"
      },
      "source": [
        "#adding layers and forming the model\n",
        "model1 = Sequential()\n",
        "model1.add(LSTM(256,activation=\"tanh\", input_shape=(36,5), return_sequences=True))\n",
        "model1.add(Dropout(0.15))\n",
        "\n",
        "model1.add(LSTM(128, activation=\"tanh\"))\n",
        "model1.add(Dropout(0.15))\n",
        "\n",
        "model1.add(Dense(64, activation='tanh'))\n",
        "model1.add(Dropout(0.15))\n",
        "\n",
        "model1.add(Flatten())\n",
        "#model1.add(Dense(units=9,activation='softmax'))"
      ],
      "execution_count": null,
      "outputs": []
    },
    {
      "cell_type": "code",
      "metadata": {
        "colab": {
          "base_uri": "https://localhost:8080/",
          "height": 52
        },
        "id": "sX2BGwRdf5cM",
        "outputId": "e6ed7057-53f7-4ca8-bbde-ba97dc4b2529"
      },
      "source": [
        ""
      ],
      "execution_count": null,
      "outputs": [
        {
          "output_type": "execute_result",
          "data": {
            "application/vnd.google.colaboratory.intrinsic+json": {
              "type": "string"
            },
            "text/plain": [
              "\"#compiling\\n\\nmodel1.compile(optimizer=optimizers.Adam(lr=0.001),\\n              loss='categorical_crossentropy',\\n              metrics=['accuracy'])\""
            ]
          },
          "metadata": {
            "tags": []
          },
          "execution_count": 16
        }
      ]
    },
    {
      "cell_type": "code",
      "metadata": {
        "colab": {
          "base_uri": "https://localhost:8080/",
          "height": 35
        },
        "id": "JH7SX-SggZuZ",
        "outputId": "98cf1040-a671-47d2-f1d2-9b54d760e111"
      },
      "source": [
        "#fitting\n",
        "\"history = model1.fit(x_train,y_train,epochs=3,validation_data=(x_test,y_test),batch_size=40)\""
      ],
      "execution_count": null,
      "outputs": [
        {
          "output_type": "execute_result",
          "data": {
            "application/vnd.google.colaboratory.intrinsic+json": {
              "type": "string"
            },
            "text/plain": [
              "'history = model1.fit(x_train,y_train,epochs=3,validation_data=(x_test,y_test),batch_size=40)'"
            ]
          },
          "metadata": {
            "tags": []
          },
          "execution_count": 17
        }
      ]
    },
    {
      "cell_type": "markdown",
      "metadata": {
        "id": "vOfC4ZX5grEt"
      },
      "source": [
        "# **Merge**"
      ]
    },
    {
      "cell_type": "code",
      "metadata": {
        "id": "9IWqnFaagc_f"
      },
      "source": [
        "merged_model = Concatenate() ([model.output, model1.output])\n",
        "\n",
        "x = Dense(512, activation='relu')(merged_model)\n",
        "x = Dropout(0.4)(x)\n",
        "x = Dense(128, activation='relu')(x)\n",
        "x = Dropout(0.4)(x)\n",
        "'''x = Dense(32, activation='relu')(x)\n",
        "x = Dropout(0.2)(x)'''\n",
        "output = Dense(9, activation= 'softmax')(x)"
      ],
      "execution_count": null,
      "outputs": []
    },
    {
      "cell_type": "code",
      "metadata": {
        "id": "XIzO4PHJiPmQ"
      },
      "source": [
        "from keras.models import Model"
      ],
      "execution_count": null,
      "outputs": []
    },
    {
      "cell_type": "code",
      "metadata": {
        "id": "YtpwoDz5huVo"
      },
      "source": [
        "final_model = Model(inputs=[model.input, model1.input], outputs = [output])"
      ],
      "execution_count": null,
      "outputs": []
    },
    {
      "cell_type": "code",
      "metadata": {
        "id": "p6KqLFWMiLxC"
      },
      "source": [
        "final_model.compile(loss='categorical_crossentropy',optimizer='adam',metrics=['accuracy'])"
      ],
      "execution_count": null,
      "outputs": []
    },
    {
      "cell_type": "code",
      "metadata": {
        "id": "31MlmzQmiXBY"
      },
      "source": [
        "final_model.summary()"
      ],
      "execution_count": null,
      "outputs": []
    },
    {
      "cell_type": "code",
      "metadata": {
        "id": "Tqvqu_jdiZPT"
      },
      "source": [
        "from keras.utils.vis_utils import plot_model\n",
        "plot_model(final_model, to_file='earlyfusionmodel.png', show_shapes=True, show_layer_names=True)"
      ],
      "execution_count": null,
      "outputs": []
    },
    {
      "cell_type": "code",
      "metadata": {
        "id": "JoJSEEQRigBo"
      },
      "source": [
        "history1 = final_model.fit([x_train1, x_train], y_train,batch_size=64,epochs=100,verbose=1,validation_split=0.3)"
      ],
      "execution_count": null,
      "outputs": []
    },
    {
      "cell_type": "code",
      "metadata": {
        "id": "FKgw1YePsdDO"
      },
      "source": [
        "#Saving the model\n",
        "import h5py\n",
        "model.save('CNNmodel.h5')\n"
      ],
      "execution_count": null,
      "outputs": []
    },
    {
      "cell_type": "code",
      "metadata": {
        "id": "MKjbiSoXi0Gv"
      },
      "source": [
        "import matplotlib.pyplot as plt\n",
        "\n",
        "\n",
        "# Plot training & validation accuracy values\n",
        "plt.plot(history.history['accuracy'])\n",
        "plt.plot(history.history['val_accuracy'])\n",
        "plt.title('Model accuracy')\n",
        "plt.ylabel('Accuracy')\n",
        "plt.xlabel('Epoch')\n",
        "plt.legend(['Train', 'Test'], loc='upper left')\n",
        "plt.show()\n",
        "\n",
        "# Plot training & validation loss values\n",
        "plt.plot(history.history['loss'])\n",
        "plt.plot(history.history['val_loss'])\n",
        "plt.title('Model loss')\n",
        "plt.ylabel('Loss')\n",
        "plt.xlabel('Epoch')\n",
        "plt.legend(['Train', 'Test'], loc='upper left')\n",
        "plt.show()"
      ],
      "execution_count": null,
      "outputs": []
    },
    {
      "cell_type": "code",
      "metadata": {
        "id": "W6XJj5disZXA"
      },
      "source": [
        "#train and test loss and scores respectively\n",
        "train_loss_score=final_model.evaluate(x_train,y_train)\n",
        "test_loss_score=final_model.evaluate(x_test1,y_test)\n",
        "print(train_loss_score)\n",
        "print(test_loss_score)"
      ],
      "execution_count": null,
      "outputs": []
    }
  ]
}