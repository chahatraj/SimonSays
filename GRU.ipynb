{
 "cells": [
  {
   "cell_type": "code",
   "execution_count": 1,
   "metadata": {
    "colab": {},
    "colab_type": "code",
    "id": "1Wq_yMj7_9hk"
   },
   "outputs": [],
   "source": [
    "#extracting data from csv files into numpy arrays\n",
    "from numpy import genfromtxt\n",
    "import numpy as np\n",
    "x_train = genfromtxt('train_data1.csv', delimiter=',')\n",
    "y_train = genfromtxt('train_labels1.csv', delimiter=',')\n",
    "x_test = genfromtxt('test_data1.csv', delimiter=',')\n",
    "y_test = genfromtxt('test_labels1.csv', delimiter=',')"
   ]
  },
  {
   "cell_type": "code",
   "execution_count": 2,
   "metadata": {
    "colab": {
     "base_uri": "https://localhost:8080/",
     "height": 34
    },
    "colab_type": "code",
    "executionInfo": {
     "elapsed": 2610,
     "status": "ok",
     "timestamp": 1555479614279,
     "user": {
      "displayName": "Triloki Gupta",
      "photoUrl": "https://lh5.googleusercontent.com/-i5Q2Y1Fc3cc/AAAAAAAAAAI/AAAAAAAAHqI/ncYI5bgHpiQ/s64/photo.jpg",
      "userId": "02497753737384523015"
     },
     "user_tz": -330
    },
    "id": "4poDnafZAA7n",
    "outputId": "c94ce549-77ce-4187-f319-fe18cdb26332"
   },
   "outputs": [
    {
     "data": {
      "text/plain": [
       "((108, 180), (27, 180), (108,), (27,))"
      ]
     },
     "execution_count": 2,
     "metadata": {},
     "output_type": "execute_result"
    }
   ],
   "source": [
    "#shape\n",
    "x_train.shape,x_test.shape,y_train.shape,y_test.shape"
   ]
  },
  {
   "cell_type": "code",
   "execution_count": 3,
   "metadata": {
    "colab": {
     "base_uri": "https://localhost:8080/",
     "height": 51
    },
    "colab_type": "code",
    "executionInfo": {
     "elapsed": 4813,
     "status": "ok",
     "timestamp": 1555479616541,
     "user": {
      "displayName": "Triloki Gupta",
      "photoUrl": "https://lh5.googleusercontent.com/-i5Q2Y1Fc3cc/AAAAAAAAAAI/AAAAAAAAHqI/ncYI5bgHpiQ/s64/photo.jpg",
      "userId": "02497753737384523015"
     },
     "user_tz": -330
    },
    "id": "bZGLjxHaABlP",
    "outputId": "9f6dcf14-608b-4588-cff3-112e6df7eb20"
   },
   "outputs": [
    {
     "data": {
      "text/plain": [
       "((108, 9), (27, 9))"
      ]
     },
     "execution_count": 3,
     "metadata": {},
     "output_type": "execute_result"
    }
   ],
   "source": [
    "#converting to one hot\n",
    "from keras.utils.np_utils import to_categorical\n",
    "y_train = to_categorical(y_train, num_classes=9)\n",
    "y_test = to_categorical(y_test, num_classes=9)\n",
    "y_train.shape,y_test.shape"
   ]
  },
  {
   "cell_type": "code",
   "execution_count": 4,
   "metadata": {
    "colab": {
     "base_uri": "https://localhost:8080/",
     "height": 34
    },
    "colab_type": "code",
    "executionInfo": {
     "elapsed": 4744,
     "status": "ok",
     "timestamp": 1555479616556,
     "user": {
      "displayName": "Triloki Gupta",
      "photoUrl": "https://lh5.googleusercontent.com/-i5Q2Y1Fc3cc/AAAAAAAAAAI/AAAAAAAAHqI/ncYI5bgHpiQ/s64/photo.jpg",
      "userId": "02497753737384523015"
     },
     "user_tz": -330
    },
    "id": "7Ol_dJFJAEwf",
    "outputId": "4969d058-e3dc-4619-d295-58a6be1fa3ee"
   },
   "outputs": [
    {
     "data": {
      "text/plain": [
       "((108, 36, 5), (27, 36, 5))"
      ]
     },
     "execution_count": 4,
     "metadata": {},
     "output_type": "execute_result"
    }
   ],
   "source": [
    "#reshaping to 2D \n",
    "x_train=np.reshape(x_train,(x_train.shape[0], 36,5))\n",
    "x_test=np.reshape(x_test,(x_test.shape[0], 36,5))\n",
    "x_train.shape,x_test.shape"
   ]
  },
  {
   "cell_type": "code",
   "execution_count": 5,
   "metadata": {
    "colab": {},
    "colab_type": "code",
    "id": "DILmTO-IAJ3v"
   },
   "outputs": [],
   "source": [
    "#reshaping to shape required by GRU\n",
    "x_train=np.reshape(x_train,(x_train.shape[0], 36,5))\n",
    "x_test=np.reshape(x_test,(x_test.shape[0], 36,5))"
   ]
  },
  {
   "cell_type": "code",
   "execution_count": 6,
   "metadata": {
    "colab": {
     "base_uri": "https://localhost:8080/",
     "height": 34
    },
    "colab_type": "code",
    "executionInfo": {
     "elapsed": 4699,
     "status": "ok",
     "timestamp": 1555479616577,
     "user": {
      "displayName": "Triloki Gupta",
      "photoUrl": "https://lh5.googleusercontent.com/-i5Q2Y1Fc3cc/AAAAAAAAAAI/AAAAAAAAHqI/ncYI5bgHpiQ/s64/photo.jpg",
      "userId": "02497753737384523015"
     },
     "user_tz": -330
    },
    "id": "9E5VAxKWANqf",
    "outputId": "bbced0f1-31c6-4af1-eb4f-02838713cfdd"
   },
   "outputs": [
    {
     "data": {
      "text/plain": [
       "((108, 36, 5), (27, 36, 5))"
      ]
     },
     "execution_count": 6,
     "metadata": {},
     "output_type": "execute_result"
    }
   ],
   "source": [
    "#shapes\n",
    "x_train.shape,x_test.shape"
   ]
  },
  {
   "cell_type": "code",
   "execution_count": 7,
   "metadata": {
    "colab": {},
    "colab_type": "code",
    "id": "y9L09mH4AW6I"
   },
   "outputs": [],
   "source": [
    "from keras import Sequential\n",
    "from keras import optimizers\n",
    "from keras.layers import Dense,Dropout,Activation,SimpleRNN,GRU"
   ]
  },
  {
   "cell_type": "code",
   "execution_count": 8,
   "metadata": {
    "colab": {},
    "colab_type": "code",
    "id": "d5oCE6J3AYaP"
   },
   "outputs": [],
   "source": [
    "model = Sequential()"
   ]
  },
  {
   "cell_type": "code",
   "execution_count": 9,
   "metadata": {
    "colab": {
     "base_uri": "https://localhost:8080/",
     "height": 139
    },
    "colab_type": "code",
    "executionInfo": {
     "elapsed": 5769,
     "status": "ok",
     "timestamp": 1555479617739,
     "user": {
      "displayName": "Triloki Gupta",
      "photoUrl": "https://lh5.googleusercontent.com/-i5Q2Y1Fc3cc/AAAAAAAAAAI/AAAAAAAAHqI/ncYI5bgHpiQ/s64/photo.jpg",
      "userId": "02497753737384523015"
     },
     "user_tz": -330
    },
    "id": "8VSGwDCPBFDw",
    "outputId": "3954403a-2f28-4e50-a764-d16bda1acdcd"
   },
   "outputs": [],
   "source": [
    "#adding layers and forming the model\n",
    "model = Sequential()\n",
    "model.add(GRU(256, activation=\"relu\", input_shape=(36,5), return_sequences=True))\n",
    "model.add(Dropout(0.15))\n",
    "\n",
    "model.add(GRU(128, activation=\"relu\"))\n",
    "model.add(Dropout(0.15))\n",
    "\n",
    "model.add(Dense(64, activation='relu'))\n",
    "model.add(Dropout(0.15))\n",
    "model.add(Dense(units=9,activation='softmax'))"
   ]
  },
  {
   "cell_type": "code",
   "execution_count": 10,
   "metadata": {
    "colab": {},
    "colab_type": "code",
    "id": "rMk-Im1HBKZ_"
   },
   "outputs": [],
   "source": [
    "#compiling\n",
    "model.compile(optimizer=optimizers.Adam(lr=0.001),\n",
    "              loss='categorical_crossentropy',\n",
    "              metrics=['accuracy'])"
   ]
  },
  {
   "cell_type": "code",
   "execution_count": 17,
   "metadata": {
    "colab": {
     "base_uri": "https://localhost:8080/",
     "height": 1125
    },
    "colab_type": "code",
    "executionInfo": {
     "elapsed": 160126,
     "status": "ok",
     "timestamp": 1555479772157,
     "user": {
      "displayName": "Triloki Gupta",
      "photoUrl": "https://lh5.googleusercontent.com/-i5Q2Y1Fc3cc/AAAAAAAAAAI/AAAAAAAAHqI/ncYI5bgHpiQ/s64/photo.jpg",
      "userId": "02497753737384523015"
     },
     "user_tz": -330
    },
    "id": "Jqedu0TgBNMf",
    "outputId": "d466c373-545b-4963-e121-8ba126706282"
   },
   "outputs": [
    {
     "name": "stdout",
     "output_type": "stream",
     "text": [
      "Epoch 1/15\n",
      "3/3 [==============================] - 0s 116ms/step - loss: 0.8231 - accuracy: 0.6019 - val_loss: 0.6617 - val_accuracy: 0.6667\n",
      "Epoch 2/15\n",
      "3/3 [==============================] - 0s 80ms/step - loss: 0.8035 - accuracy: 0.6111 - val_loss: 0.7272 - val_accuracy: 0.6296\n",
      "Epoch 3/15\n",
      "3/3 [==============================] - 0s 94ms/step - loss: 0.7513 - accuracy: 0.6389 - val_loss: 0.6384 - val_accuracy: 0.6296\n",
      "Epoch 4/15\n",
      "3/3 [==============================] - 0s 84ms/step - loss: 0.7222 - accuracy: 0.6481 - val_loss: 0.6553 - val_accuracy: 0.7407\n",
      "Epoch 5/15\n",
      "3/3 [==============================] - 0s 87ms/step - loss: 0.6877 - accuracy: 0.6944 - val_loss: 0.7232 - val_accuracy: 0.7037\n",
      "Epoch 6/15\n",
      "3/3 [==============================] - 0s 86ms/step - loss: 0.6822 - accuracy: 0.6852 - val_loss: 0.6969 - val_accuracy: 0.7037\n",
      "Epoch 7/15\n",
      "3/3 [==============================] - 0s 88ms/step - loss: 0.6675 - accuracy: 0.7222 - val_loss: 0.5679 - val_accuracy: 0.8148\n",
      "Epoch 8/15\n",
      "3/3 [==============================] - 0s 91ms/step - loss: 0.6200 - accuracy: 0.7500 - val_loss: 0.6782 - val_accuracy: 0.8519\n",
      "Epoch 9/15\n",
      "3/3 [==============================] - 0s 85ms/step - loss: 0.5946 - accuracy: 0.7222 - val_loss: 0.4949 - val_accuracy: 0.7778\n",
      "Epoch 10/15\n",
      "3/3 [==============================] - 0s 93ms/step - loss: 0.5877 - accuracy: 0.6944 - val_loss: 0.5790 - val_accuracy: 0.8519\n",
      "Epoch 11/15\n",
      "3/3 [==============================] - 0s 110ms/step - loss: 0.5129 - accuracy: 0.7778 - val_loss: 0.5035 - val_accuracy: 0.8889\n",
      "Epoch 12/15\n",
      "3/3 [==============================] - 0s 91ms/step - loss: 0.5606 - accuracy: 0.7315 - val_loss: 0.4741 - val_accuracy: 0.8519\n",
      "Epoch 13/15\n",
      "3/3 [==============================] - 0s 86ms/step - loss: 0.4834 - accuracy: 0.7963 - val_loss: 0.3891 - val_accuracy: 0.8889\n",
      "Epoch 14/15\n",
      "3/3 [==============================] - 0s 86ms/step - loss: 0.4982 - accuracy: 0.7685 - val_loss: 0.4096 - val_accuracy: 0.7407\n",
      "Epoch 15/15\n",
      "3/3 [==============================] - 0s 91ms/step - loss: 0.4565 - accuracy: 0.8426 - val_loss: 0.4914 - val_accuracy: 0.8519\n"
     ]
    }
   ],
   "source": [
    "#fitting\n",
    "history = model.fit(x_train,y_train,epochs=15,validation_data=(x_test,y_test),batch_size=40)"
   ]
  },
  {
   "cell_type": "code",
   "execution_count": 12,
   "metadata": {
    "colab": {},
    "colab_type": "code",
    "id": "-icbSAFKBPt_"
   },
   "outputs": [],
   "source": [
    "#Saving the model\n",
    "import h5py\n",
    "model.save('RNNmodel.h5')"
   ]
  },
  {
   "cell_type": "code",
   "execution_count": 18,
   "metadata": {
    "colab": {
     "base_uri": "https://localhost:8080/",
     "height": 573
    },
    "colab_type": "code",
    "executionInfo": {
     "elapsed": 161833,
     "status": "ok",
     "timestamp": 1555479773916,
     "user": {
      "displayName": "Triloki Gupta",
      "photoUrl": "https://lh5.googleusercontent.com/-i5Q2Y1Fc3cc/AAAAAAAAAAI/AAAAAAAAHqI/ncYI5bgHpiQ/s64/photo.jpg",
      "userId": "02497753737384523015"
     },
     "user_tz": -330
    },
    "id": "JziSuJveEheO",
    "outputId": "b8997768-4974-4713-a986-f754a60d49bb"
   },
   "outputs": [
    {
     "data": {
      "image/png": "[encoded data removed]",
      "text/plain": [
       "<Figure size 432x288 with 1 Axes>"
      ]
     },
     "metadata": {
      "needs_background": "light"
     },
     "output_type": "display_data"
    },
    {
     "data": {
      "image/png": "[encoded data removed]",
      "text/plain": [
       "<Figure size 432x288 with 1 Axes>"
      ]
     },
     "metadata": {
      "needs_background": "light"
     },
     "output_type": "display_data"
    }
   ],
   "source": [
    "import matplotlib.pyplot as plt\n",
    "\n",
    "\n",
    "# Plot training & validation accuracy values\n",
    "plt.plot(history.history['accuracy'])\n",
    "plt.plot(history.history['val_accuracy'])\n",
    "plt.title('Model accuracy')\n",
    "plt.ylabel('Accuracy')\n",
    "plt.xlabel('Epoch')\n",
    "plt.legend(['Train', 'Test'], loc='upper left')\n",
    "plt.show()\n",
    "\n",
    "# Plot training & validation loss values\n",
    "plt.plot(history.history['loss'])\n",
    "plt.plot(history.history['val_loss'])\n",
    "plt.title('Model loss')\n",
    "plt.ylabel('Loss')\n",
    "plt.xlabel('Epoch')\n",
    "plt.legend(['Train', 'Test'], loc='upper left')\n",
    "plt.show()"
   ]
  },
  {
   "cell_type": "code",
   "execution_count": 14,
   "metadata": {
    "colab": {
     "base_uri": "https://localhost:8080/",
     "height": 85
    },
    "colab_type": "code",
    "executionInfo": {
     "elapsed": 162324,
     "status": "ok",
     "timestamp": 1555479774433,
     "user": {
      "displayName": "Triloki Gupta",
      "photoUrl": "https://lh5.googleusercontent.com/-i5Q2Y1Fc3cc/AAAAAAAAAAI/AAAAAAAAHqI/ncYI5bgHpiQ/s64/photo.jpg",
      "userId": "02497753737384523015"
     },
     "user_tz": -330
    },
    "id": "TF4HI9pCEiG-",
    "outputId": "5bc48406-7a96-4a64-87bb-9258438aa488"
   },
   "outputs": [
    {
     "name": "stdout",
     "output_type": "stream",
     "text": [
      "4/4 [==============================] - 0s 16ms/step - loss: 0.7241 - accuracy: 0.6852\n",
      "1/1 [==============================] - 0s 31ms/step - loss: 0.7550 - accuracy: 0.5556\n",
      "[0.7240528464317322, 0.6851851940155029]\n",
      "[0.7549933195114136, 0.5555555820465088]\n"
     ]
    }
   ],
   "source": [
    "#train and test loss and scores respectively\n",
    "train_loss_score=model.evaluate(x_train,y_train)\n",
    "test_loss_score=model.evaluate(x_test,y_test)\n",
    "print(train_loss_score)\n",
    "print(test_loss_score)"
   ]
  },
  {
   "cell_type": "code",
   "execution_count": 15,
   "metadata": {
    "colab": {},
    "colab_type": "code",
    "id": "1An0_s_oWiWU"
   },
   "outputs": [],
   "source": [
    "#Saving the model\n",
    "import h5py\n",
    "model.save('GRUmodel.h5')"
   ]
  },
  {
   "cell_type": "code",
   "execution_count": 16,
   "metadata": {
    "colab": {
     "base_uri": "https://localhost:8080/",
     "height": 1377
    },
    "colab_type": "code",
    "executionInfo": {
     "elapsed": 162310,
     "status": "ok",
     "timestamp": 1555479774468,
     "user": {
      "displayName": "Triloki Gupta",
      "photoUrl": "https://lh5.googleusercontent.com/-i5Q2Y1Fc3cc/AAAAAAAAAAI/AAAAAAAAHqI/ncYI5bgHpiQ/s64/photo.jpg",
      "userId": "02497753737384523015"
     },
     "user_tz": -330
    },
    "id": "aMDRqe9IEkwu",
    "outputId": "d63a11e0-a84f-4597-a6b2-a14a1ce3c374"
   },
   "outputs": [
    {
     "ename": "IndexError",
     "evalue": "index 43 is out of bounds for axis 0 with size 27",
     "output_type": "error",
     "traceback": [
      "\u001b[1;31m---------------------------------------------------------------------------\u001b[0m",
      "\u001b[1;31mIndexError\u001b[0m                                Traceback (most recent call last)",
      "\u001b[1;32m<ipython-input-16-6a7a0b01225c>\u001b[0m in \u001b[0;36m<module>\u001b[1;34m\u001b[0m\n\u001b[1;32m----> 1\u001b[1;33m \u001b[0mx_test\u001b[0m\u001b[1;33m[\u001b[0m\u001b[1;36m43\u001b[0m\u001b[1;33m]\u001b[0m\u001b[1;33m\u001b[0m\u001b[1;33m\u001b[0m\u001b[0m\n\u001b[0m",
      "\u001b[1;31mIndexError\u001b[0m: index 43 is out of bounds for axis 0 with size 27"
     ]
    }
   ],
   "source": [
    "x_test[43]"
   ]
  },
  {
   "cell_type": "code",
   "execution_count": null,
   "metadata": {
    "colab": {
     "base_uri": "https://localhost:8080/",
     "height": 34
    },
    "colab_type": "code",
    "executionInfo": {
     "elapsed": 162280,
     "status": "ok",
     "timestamp": 1555479774475,
     "user": {
      "displayName": "Triloki Gupta",
      "photoUrl": "https://lh5.googleusercontent.com/-i5Q2Y1Fc3cc/AAAAAAAAAAI/AAAAAAAAHqI/ncYI5bgHpiQ/s64/photo.jpg",
      "userId": "02497753737384523015"
     },
     "user_tz": -330
    },
    "id": "D_-wr7RfEnKe",
    "outputId": "873c13ec-3831-4b6d-b4c7-514a79679161"
   },
   "outputs": [],
   "source": [
    "y_test[43]"
   ]
  },
  {
   "cell_type": "code",
   "execution_count": null,
   "metadata": {
    "colab": {
     "base_uri": "https://localhost:8080/",
     "height": 51
    },
    "colab_type": "code",
    "executionInfo": {
     "elapsed": 166150,
     "status": "ok",
     "timestamp": 1555479778369,
     "user": {
      "displayName": "Triloki Gupta",
      "photoUrl": "https://lh5.googleusercontent.com/-i5Q2Y1Fc3cc/AAAAAAAAAAI/AAAAAAAAHqI/ncYI5bgHpiQ/s64/photo.jpg",
      "userId": "02497753737384523015"
     },
     "user_tz": -330
    },
    "id": "Jk3Wr1sZEpiO",
    "outputId": "e4893989-ed97-41e2-b63c-6e19bd1a3371"
   },
   "outputs": [],
   "source": [
    "from keras.models import load_model\n",
    "model1 = load_model(\"GRUmodel.h5\")\n",
    "model1.predict(np.array([[[-2.73306311e+02,  1.58642348e+02, -2.51804661e+01,\n",
    "         2.86019095e+01,  6.99706422e+00],\n",
    "       [-1.42294665e+01, -2.34645073e+01, -6.28480623e+00,\n",
    "        -8.65793279e+00, -4.55593675e+00],\n",
    "       [-6.92275717e+00,  5.60497474e+00,  3.16393417e+00,\n",
    "        -1.47657957e+01,  1.51526806e+01],\n",
    "       [-3.17696095e+00, -1.23760858e+01,  3.91984523e+00,\n",
    "        -4.87903315e+00, -4.95804955e+00],\n",
    "       [-4.49944483e+00, -1.37032968e+00, -3.22835255e+00,\n",
    "        -4.88906624e+00, -3.42968136e+00],\n",
    "       [-6.82397100e+00, -2.99805555e+00, -6.23055454e-01,\n",
    "        -6.58288230e+00, -2.35257537e+00],\n",
    "       [-9.68074613e-01, -4.47761105e+00, -2.84575784e+00,\n",
    "        -3.32549884e+00, -1.56158142e+00],\n",
    "       [-2.29576016e+00,  1.29711570e+00,  4.93674808e+00,\n",
    "         6.87433310e+00,  7.94018623e+00],\n",
    "       [ 4.93491897e-01,  6.94870545e+00,  4.72268216e+00,\n",
    "         1.18707843e+01,  2.44250603e+01],\n",
    "       [ 2.88819540e+01,  4.10303611e+01,  1.16491604e+01,\n",
    "         1.10405546e+01,  2.44277799e+00],\n",
    "       [ 4.24940737e-01,  5.28936982e-01,  2.60800369e-01,\n",
    "         3.48806603e-01,  2.33123275e-01],\n",
    "       [ 2.98151289e-01,  3.37060296e-01,  3.26388803e-01,\n",
    "         2.14382093e-01,  2.34875481e-01],\n",
    "       [ 3.28661707e-01,  2.62339352e-01,  1.66294454e-01,\n",
    "         3.66376503e-01,  3.56937573e-01],\n",
    "       [ 2.58143551e-01,  5.20451234e-02,  1.15097583e-02,\n",
    "         5.69027397e-03,  1.80453274e-02],\n",
    "       [ 2.85969803e-02,  6.79184780e-03,  3.17920136e-03,\n",
    "         8.93570531e-04,  2.61840371e-04],\n",
    "       [ 2.62720411e-04,  8.96713784e-04,  5.93085915e-04,\n",
    "         2.74660863e-04,  8.97915254e-05],\n",
    "       [ 2.12655137e-01,  1.97313694e-01,  1.75298747e-01,\n",
    "         1.66637303e-01,  2.23772606e-01],\n",
    "       [ 2.88540718e-01,  3.31788830e-01,  3.27104943e-01,\n",
    "         2.71053675e-01,  2.47357864e-01],\n",
    "       [ 2.37464255e-01,  2.06004030e-01,  1.80851936e-01,\n",
    "         1.63070244e-01,  1.42943428e-01],\n",
    "       [ 1.54220044e-01,  1.82762187e-01,  1.92736980e-01,\n",
    "         1.93404270e-01,  2.05244891e-01],\n",
    "       [ 2.23008455e-01,  2.60471854e-01,  2.91963973e-01,\n",
    "         3.05896983e-01,  2.98556535e-01],\n",
    "       [ 2.96887032e-01,  2.34715227e-01,  1.68456863e-01,\n",
    "         1.37714199e-01,  1.35147186e-01],\n",
    "       [ 1.37832849e-01,  1.32582068e-01,  1.36611312e-01,\n",
    "         1.37090875e-01,  1.31253257e-01],\n",
    "       [ 1.28245810e-01,  1.26265496e-01,  1.44856372e-01,\n",
    "         1.74492954e-01,  2.04268323e-01],\n",
    "       [ 4.40323258e-01,  4.20860309e-01,  3.63451963e-01,\n",
    "         3.20953109e-01,  2.81858744e-01],\n",
    "       [ 2.85603751e-01,  2.52891314e-01,  2.08028595e-01,\n",
    "         2.17863441e-01,  2.88517820e-01],\n",
    "       [ 3.23457009e-01,  3.22333969e-01,  3.49040201e-01,\n",
    "         4.01179050e-01,  4.59604378e-01],\n",
    "       [ 5.21913709e-01,  4.95070702e-01,  4.49427668e-01,\n",
    "         4.13891321e-01,  3.30843765e-01],\n",
    "       [ 2.80339507e-01,  2.75916936e-01,  2.73124866e-01,\n",
    "         2.69720095e-01,  2.60734315e-01],\n",
    "       [ 2.23099839e-01,  2.15500744e-01,  2.19637542e-01,\n",
    "         2.11599443e-01,  2.15562043e-01],\n",
    "       [ 2.67638663e-01,  2.98598779e-01,  3.06233626e-01,\n",
    "         2.77476615e-01,  2.54093808e-01],\n",
    "       [ 2.33083234e-01,  2.24740102e-01,  2.62159212e-01,\n",
    "         2.97193444e-01,  3.70511422e-01],\n",
    "       [ 1.57298937e-01,  1.44024625e-01,  9.01583609e-02,\n",
    "         5.32888194e-02,  2.07195133e-02],\n",
    "       [ 5.29473224e-02,  3.71320815e-02,  2.55161067e-02,\n",
    "         1.89355182e-02,  8.03073298e-02],\n",
    "       [ 1.51380939e-01,  1.17962272e-01,  1.12875647e-01,\n",
    "         1.55453676e-01,  2.10270043e-01],\n",
    "       [ 3.04842183e-01,  2.43425630e-01,  2.44850825e-01,\n",
    "         1.75561916e-01,  9.00012125e-02],\n",
    "       [ 3.99796327e-02,  3.05304041e-02,  2.46228316e-02,\n",
    "         2.84191105e-02,  3.38842104e-02],\n",
    "       [ 2.36045786e-02,  4.47848852e-02,  6.64761822e-02,\n",
    "         6.44560076e-02,  4.87499372e-02],\n",
    "       [ 7.38655223e-02,  8.89492341e-02,  1.26374655e-01,\n",
    "         1.13667290e-01,  8.10978293e-02],\n",
    "       [ 4.25968455e-03,  6.28639338e-03,  3.11333885e-02,\n",
    "         1.16750901e-01,  1.38490457e-01]]]))"
   ]
  },
  {
   "cell_type": "code",
   "execution_count": null,
   "metadata": {
    "colab": {},
    "colab_type": "code",
    "id": "Nfvg-YqdEsH-"
   },
   "outputs": [],
   "source": []
  }
 ],
 "metadata": {
  "colab": {
   "name": "GRU.ipynb",
   "provenance": [
    {
     "file_id": "1WiyNb8TyudIdmE6ua9xeQh4uk5Fhi77K",
     "timestamp": 1555354239957
    }
   ],
   "version": "0.3.2"
  },
  "kernelspec": {
   "display_name": "Python 3",
   "language": "python",
   "name": "python3"
  },
  "language_info": {
   "codemirror_mode": {
    "name": "ipython",
    "version": 3
   },
   "file_extension": ".py",
   "mimetype": "text/x-python",
   "name": "python",
   "nbconvert_exporter": "python",
   "pygments_lexer": "ipython3",
   "version": "3.8.5"
  }
 },
 "nbformat": 4,
 "nbformat_minor": 1
}
