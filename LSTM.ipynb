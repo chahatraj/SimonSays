{
 "cells": [
  {
   "cell_type": "code",
   "execution_count": 7,
   "metadata": {
    "colab": {},
    "colab_type": "code",
    "id": "UcsdEckuMiA3"
   },
   "outputs": [],
   "source": [
    "#extracting data from csv files into numpy arrays\n",
    "from numpy import genfromtxt\n",
    "import numpy as np\n",
    "x_train = genfromtxt('train_data1.csv', delimiter=',')\n",
    "y_train = genfromtxt('train_labels1.csv', delimiter=',')\n",
    "x_test = genfromtxt('test_data1.csv', delimiter=',')\n",
    "y_test = genfromtxt('test_labels1.csv', delimiter=',')"
   ]
  },
  {
   "cell_type": "code",
   "execution_count": 8,
   "metadata": {
    "colab": {
     "base_uri": "https://localhost:8080/",
     "height": 34
    },
    "colab_type": "code",
    "executionInfo": {
     "elapsed": 2208,
     "status": "ok",
     "timestamp": 1555479603743,
     "user": {
      "displayName": "Triloki Gupta",
      "photoUrl": "https://lh5.googleusercontent.com/-i5Q2Y1Fc3cc/AAAAAAAAAAI/AAAAAAAAHqI/ncYI5bgHpiQ/s64/photo.jpg",
      "userId": "02497753737384523015"
     },
     "user_tz": -330
    },
    "id": "jvCC3_CpN5Kf",
    "outputId": "9a955a9c-3bf4-454e-81e1-caef0fd58fcc"
   },
   "outputs": [
    {
     "data": {
      "text/plain": [
       "((108, 180), (27, 180), (108,), (27,))"
      ]
     },
     "execution_count": 8,
     "metadata": {},
     "output_type": "execute_result"
    }
   ],
   "source": [
    "#shape\n",
    "x_train.shape,x_test.shape,y_train.shape,y_test.shape"
   ]
  },
  {
   "cell_type": "code",
   "execution_count": 9,
   "metadata": {
    "colab": {
     "base_uri": "https://localhost:8080/",
     "height": 50
    },
    "colab_type": "code",
    "executionInfo": {
     "elapsed": 2643,
     "status": "ok",
     "timestamp": 1555479604215,
     "user": {
      "displayName": "Triloki Gupta",
      "photoUrl": "https://lh5.googleusercontent.com/-i5Q2Y1Fc3cc/AAAAAAAAAAI/AAAAAAAAHqI/ncYI5bgHpiQ/s64/photo.jpg",
      "userId": "02497753737384523015"
     },
     "user_tz": -330
    },
    "id": "1BnKSbtqN5HX",
    "outputId": "51dd43aa-2ec7-431a-f5f2-5440b7ab3fa9"
   },
   "outputs": [
    {
     "data": {
      "text/plain": [
       "((108, 9), (27, 9))"
      ]
     },
     "execution_count": 9,
     "metadata": {},
     "output_type": "execute_result"
    }
   ],
   "source": [
    "#converting to one hot\n",
    "from keras.utils.np_utils import to_categorical\n",
    "y_train = to_categorical(y_train, num_classes=9)\n",
    "y_test = to_categorical(y_test, num_classes=9)\n",
    "y_train.shape,y_test.shape"
   ]
  },
  {
   "cell_type": "code",
   "execution_count": 10,
   "metadata": {
    "colab": {
     "base_uri": "https://localhost:8080/",
     "height": 34
    },
    "colab_type": "code",
    "executionInfo": {
     "elapsed": 2621,
     "status": "ok",
     "timestamp": 1555479604219,
     "user": {
      "displayName": "Triloki Gupta",
      "photoUrl": "https://lh5.googleusercontent.com/-i5Q2Y1Fc3cc/AAAAAAAAAAI/AAAAAAAAHqI/ncYI5bgHpiQ/s64/photo.jpg",
      "userId": "02497753737384523015"
     },
     "user_tz": -330
    },
    "id": "sAsnMa9SPl-e",
    "outputId": "c0bfd540-8f94-48a5-91f3-6fce288d8b18"
   },
   "outputs": [
    {
     "data": {
      "text/plain": [
       "((108, 36, 5), (27, 36, 5))"
      ]
     },
     "execution_count": 10,
     "metadata": {},
     "output_type": "execute_result"
    }
   ],
   "source": [
    "#reshaping to 2D \n",
    "x_train=np.reshape(x_train,(x_train.shape[0], 36,5))\n",
    "x_test=np.reshape(x_test,(x_test.shape[0], 36,5))\n",
    "x_train.shape,x_test.shape"
   ]
  },
  {
   "cell_type": "code",
   "execution_count": 11,
   "metadata": {
    "colab": {},
    "colab_type": "code",
    "id": "atsmf-RrPoP_"
   },
   "outputs": [],
   "source": [
    "#reshaping to shape required by LSTM\n",
    "x_train=np.reshape(x_train,(x_train.shape[0], 36,5))\n",
    "x_test=np.reshape(x_test,(x_test.shape[0], 36,5))"
   ]
  },
  {
   "cell_type": "code",
   "execution_count": 12,
   "metadata": {
    "colab": {
     "base_uri": "https://localhost:8080/",
     "height": 34
    },
    "colab_type": "code",
    "executionInfo": {
     "elapsed": 2563,
     "status": "ok",
     "timestamp": 1555479604227,
     "user": {
      "displayName": "Triloki Gupta",
      "photoUrl": "https://lh5.googleusercontent.com/-i5Q2Y1Fc3cc/AAAAAAAAAAI/AAAAAAAAHqI/ncYI5bgHpiQ/s64/photo.jpg",
      "userId": "02497753737384523015"
     },
     "user_tz": -330
    },
    "id": "xf_4Bp4DPybv",
    "outputId": "9407514e-2c38-4ca9-c1dc-a23d1d740c4e"
   },
   "outputs": [
    {
     "data": {
      "text/plain": [
       "((108, 36, 5), (27, 36, 5))"
      ]
     },
     "execution_count": 12,
     "metadata": {},
     "output_type": "execute_result"
    }
   ],
   "source": [
    "#shapes\n",
    "x_train.shape,x_test.shape"
   ]
  },
  {
   "cell_type": "code",
   "execution_count": 13,
   "metadata": {
    "colab": {
     "base_uri": "https://localhost:8080/",
     "height": 34
    },
    "colab_type": "code",
    "executionInfo": {
     "elapsed": 1819,
     "status": "ok",
     "timestamp": 1557376172551,
     "user": {
      "displayName": "Triloki Gupta",
      "photoUrl": "https://lh5.googleusercontent.com/-i5Q2Y1Fc3cc/AAAAAAAAAAI/AAAAAAAAHqI/ncYI5bgHpiQ/s64/photo.jpg",
      "userId": "02497753737384523015"
     },
     "user_tz": -330
    },
    "id": "Cwin_FAzN5En",
    "outputId": "699607e5-0e14-4636-8230-ad4129af5245"
   },
   "outputs": [],
   "source": [
    "from keras import Sequential\n",
    "from keras import optimizers\n",
    "from keras.layers import Dense,Dropout,Activation,LSTM,SimpleRNN"
   ]
  },
  {
   "cell_type": "code",
   "execution_count": 14,
   "metadata": {
    "colab": {},
    "colab_type": "code",
    "id": "MrR_ECuWRaR9"
   },
   "outputs": [],
   "source": [
    "model = Sequential()"
   ]
  },
  {
   "cell_type": "code",
   "execution_count": 15,
   "metadata": {
    "colab": {
     "base_uri": "https://localhost:8080/",
     "height": 139
    },
    "colab_type": "code",
    "executionInfo": {
     "elapsed": 2680,
     "status": "ok",
     "timestamp": 1557376173470,
     "user": {
      "displayName": "Triloki Gupta",
      "photoUrl": "https://lh5.googleusercontent.com/-i5Q2Y1Fc3cc/AAAAAAAAAAI/AAAAAAAAHqI/ncYI5bgHpiQ/s64/photo.jpg",
      "userId": "02497753737384523015"
     },
     "user_tz": -330
    },
    "id": "xx0jYFJlMU3P",
    "outputId": "2499e612-d8cd-4dc6-c280-21c3e7e75d16"
   },
   "outputs": [],
   "source": [
    "#adding layers and forming the model\n",
    "model = Sequential()\n",
    "model.add(LSTM(256,activation=\"tanh\", input_shape=(36,5), return_sequences=True))\n",
    "model.add(Dropout(0.15))\n",
    "\n",
    "model.add(LSTM(128, activation=\"tanh\"))\n",
    "model.add(Dropout(0.15))\n",
    "\n",
    "model.add(Dense(64, activation='tanh'))\n",
    "model.add(Dropout(0.15))\n",
    "model.add(Dense(units=9,activation='softmax'))"
   ]
  },
  {
   "cell_type": "code",
   "execution_count": 16,
   "metadata": {
    "colab": {},
    "colab_type": "code",
    "id": "JazG1WOW2m1P"
   },
   "outputs": [
    {
     "name": "stdout",
     "output_type": "stream",
     "text": [
      "('Failed to import pydot. You must `pip install pydot` and install graphviz (https://graphviz.gitlab.io/download/), ', 'for `pydotprint` to work.')\n"
     ]
    }
   ],
   "source": [
    "from keras.utils import plot_model\n",
    "plot_model(model, to_file='LSTMmodel.png')"
   ]
  },
  {
   "cell_type": "code",
   "execution_count": 17,
   "metadata": {},
   "outputs": [
    {
     "name": "stdout",
     "output_type": "stream",
     "text": [
      "('Failed to import pydot. You must `pip install pydot` and install graphviz (https://graphviz.gitlab.io/download/), ', 'for `pydotprint` to work.')\n"
     ]
    }
   ],
   "source": [
    "import tensorflow as tf\n",
    "tf.keras.utils.plot_model(\n",
    "    model, to_file='model.png', show_shapes=False, show_dtype=False,\n",
    "    show_layer_names=True, rankdir='TB', expand_nested=False, dpi=96\n",
    ")"
   ]
  },
  {
   "cell_type": "code",
   "execution_count": 18,
   "metadata": {
    "colab": {},
    "colab_type": "code",
    "id": "UnF5P8SlO0I_"
   },
   "outputs": [],
   "source": [
    "#compiling\n",
    "\n",
    "model.compile(optimizer=optimizers.Adam(lr=0.001),\n",
    "              loss='categorical_crossentropy',\n",
    "              metrics=['accuracy'])"
   ]
  },
  {
   "cell_type": "code",
   "execution_count": 24,
   "metadata": {
    "colab": {
     "base_uri": "https://localhost:8080/",
     "height": 742
    },
    "colab_type": "code",
    "executionInfo": {
     "elapsed": 135763,
     "status": "ok",
     "timestamp": 1555479737557,
     "user": {
      "displayName": "Triloki Gupta",
      "photoUrl": "https://lh5.googleusercontent.com/-i5Q2Y1Fc3cc/AAAAAAAAAAI/AAAAAAAAHqI/ncYI5bgHpiQ/s64/photo.jpg",
      "userId": "02497753737384523015"
     },
     "user_tz": -330
    },
    "id": "63e3ka5wO5Vu",
    "outputId": "07cb36d1-3682-4b87-bc60-57a48565300b"
   },
   "outputs": [
    {
     "name": "stdout",
     "output_type": "stream",
     "text": [
      "Epoch 1/25\n",
      "3/3 [==============================] - 0s 163ms/step - loss: 0.0048 - accuracy: 1.0000 - val_loss: 0.8254 - val_accuracy: 0.8519\n",
      "Epoch 2/25\n",
      "3/3 [==============================] - 0s 123ms/step - loss: 0.0046 - accuracy: 1.0000 - val_loss: 0.8259 - val_accuracy: 0.8519\n",
      "Epoch 3/25\n",
      "3/3 [==============================] - 0s 128ms/step - loss: 0.0048 - accuracy: 1.0000 - val_loss: 0.8274 - val_accuracy: 0.8519\n",
      "Epoch 4/25\n",
      "3/3 [==============================] - 0s 123ms/step - loss: 0.0049 - accuracy: 1.0000 - val_loss: 0.8284 - val_accuracy: 0.8519\n",
      "Epoch 5/25\n",
      "3/3 [==============================] - 0s 125ms/step - loss: 0.0046 - accuracy: 1.0000 - val_loss: 0.8302 - val_accuracy: 0.8519\n",
      "Epoch 6/25\n",
      "3/3 [==============================] - 0s 123ms/step - loss: 0.0044 - accuracy: 1.0000 - val_loss: 0.8322 - val_accuracy: 0.8519\n",
      "Epoch 7/25\n",
      "3/3 [==============================] - 0s 123ms/step - loss: 0.0047 - accuracy: 1.0000 - val_loss: 0.8351 - val_accuracy: 0.8519\n",
      "Epoch 8/25\n",
      "3/3 [==============================] - 0s 125ms/step - loss: 0.0045 - accuracy: 1.0000 - val_loss: 0.8379 - val_accuracy: 0.8519\n",
      "Epoch 9/25\n",
      "3/3 [==============================] - 0s 123ms/step - loss: 0.0045 - accuracy: 1.0000 - val_loss: 0.8382 - val_accuracy: 0.8519\n",
      "Epoch 10/25\n",
      "3/3 [==============================] - 0s 122ms/step - loss: 0.0041 - accuracy: 1.0000 - val_loss: 0.8395 - val_accuracy: 0.8519\n",
      "Epoch 11/25\n",
      "3/3 [==============================] - 0s 123ms/step - loss: 0.0039 - accuracy: 1.0000 - val_loss: 0.8410 - val_accuracy: 0.8519\n",
      "Epoch 12/25\n",
      "3/3 [==============================] - 0s 122ms/step - loss: 0.0046 - accuracy: 1.0000 - val_loss: 0.8430 - val_accuracy: 0.8519\n",
      "Epoch 13/25\n",
      "3/3 [==============================] - 0s 131ms/step - loss: 0.0045 - accuracy: 1.0000 - val_loss: 0.8454 - val_accuracy: 0.8519\n",
      "Epoch 14/25\n",
      "3/3 [==============================] - 0s 134ms/step - loss: 0.0041 - accuracy: 1.0000 - val_loss: 0.8466 - val_accuracy: 0.8519\n",
      "Epoch 15/25\n",
      "3/3 [==============================] - 0s 132ms/step - loss: 0.0040 - accuracy: 1.0000 - val_loss: 0.8479 - val_accuracy: 0.8519\n",
      "Epoch 16/25\n",
      "3/3 [==============================] - 0s 130ms/step - loss: 0.0043 - accuracy: 1.0000 - val_loss: 0.8498 - val_accuracy: 0.8519\n",
      "Epoch 17/25\n",
      "3/3 [==============================] - 0s 133ms/step - loss: 0.0039 - accuracy: 1.0000 - val_loss: 0.8513 - val_accuracy: 0.8519\n",
      "Epoch 18/25\n",
      "3/3 [==============================] - 0s 133ms/step - loss: 0.0036 - accuracy: 1.0000 - val_loss: 0.8527 - val_accuracy: 0.8519\n",
      "Epoch 19/25\n",
      "3/3 [==============================] - 0s 122ms/step - loss: 0.0038 - accuracy: 1.0000 - val_loss: 0.8539 - val_accuracy: 0.8519\n",
      "Epoch 20/25\n",
      "3/3 [==============================] - 0s 134ms/step - loss: 0.0041 - accuracy: 1.0000 - val_loss: 0.8558 - val_accuracy: 0.8519\n",
      "Epoch 21/25\n",
      "3/3 [==============================] - 0s 131ms/step - loss: 0.0042 - accuracy: 1.0000 - val_loss: 0.8580 - val_accuracy: 0.8519\n",
      "Epoch 22/25\n",
      "3/3 [==============================] - 0s 131ms/step - loss: 0.0038 - accuracy: 1.0000 - val_loss: 0.8604 - val_accuracy: 0.8519\n",
      "Epoch 23/25\n",
      "3/3 [==============================] - 0s 121ms/step - loss: 0.0034 - accuracy: 1.0000 - val_loss: 0.8624 - val_accuracy: 0.8519\n",
      "Epoch 24/25\n",
      "3/3 [==============================] - 0s 125ms/step - loss: 0.0035 - accuracy: 1.0000 - val_loss: 0.8639 - val_accuracy: 0.8519\n",
      "Epoch 25/25\n",
      "3/3 [==============================] - 0s 121ms/step - loss: 0.0038 - accuracy: 1.0000 - val_loss: 0.8650 - val_accuracy: 0.8519\n"
     ]
    }
   ],
   "source": [
    "#fitting\n",
    "history = model.fit(x_train,y_train,epochs=25,validation_data=(x_test,y_test),batch_size=40)"
   ]
  },
  {
   "cell_type": "code",
   "execution_count": 25,
   "metadata": {
    "colab": {},
    "colab_type": "code",
    "id": "gGXAyf2IPOEe"
   },
   "outputs": [],
   "source": [
    "#Saving the model\n",
    "import h5py\n",
    "model.save('LSTMmodel.h5')"
   ]
  },
  {
   "cell_type": "code",
   "execution_count": 26,
   "metadata": {
    "colab": {
     "base_uri": "https://localhost:8080/",
     "height": 574
    },
    "colab_type": "code",
    "executionInfo": {
     "elapsed": 137887,
     "status": "ok",
     "timestamp": 1555479739731,
     "user": {
      "displayName": "Triloki Gupta",
      "photoUrl": "https://lh5.googleusercontent.com/-i5Q2Y1Fc3cc/AAAAAAAAAAI/AAAAAAAAHqI/ncYI5bgHpiQ/s64/photo.jpg",
      "userId": "02497753737384523015"
     },
     "user_tz": -330
    },
    "id": "L9f3YbSeWAxL",
    "outputId": "2d143155-2801-4549-bcf7-e2be192cd5b2"
   },
   "outputs": [
    {
     "data": {
      "image/png": "[encoded data removed]",
      "text/plain": [
       "<Figure size 432x288 with 1 Axes>"
      ]
     },
     "metadata": {
      "needs_background": "light"
     },
     "output_type": "display_data"
    },
    {
     "data": {
      "image/png": "[encoded data removed]",
      "text/plain": [
       "<Figure size 432x288 with 1 Axes>"
      ]
     },
     "metadata": {
      "needs_background": "light"
     },
     "output_type": "display_data"
    }
   ],
   "source": [
    "import matplotlib.pyplot as plt\n",
    "\n",
    "\n",
    "# Plot training & validation accuracy values\n",
    "plt.plot(history.history['accuracy'])\n",
    "plt.plot(history.history['val_accuracy'])\n",
    "plt.title('Model accuracy')\n",
    "plt.ylabel('Accuracy')\n",
    "plt.xlabel('Epoch')\n",
    "plt.legend(['Train', 'Test'], loc='upper left')\n",
    "plt.show()\n",
    "\n",
    "# Plot training & validation loss values\n",
    "plt.plot(history.history['loss'])\n",
    "plt.plot(history.history['val_loss'])\n",
    "plt.title('Model loss')\n",
    "plt.ylabel('Loss')\n",
    "plt.xlabel('Epoch')\n",
    "plt.legend(['Train', 'Test'], loc='upper left')\n",
    "plt.show()"
   ]
  },
  {
   "cell_type": "code",
   "execution_count": 17,
   "metadata": {
    "colab": {
     "base_uri": "https://localhost:8080/",
     "height": 84
    },
    "colab_type": "code",
    "executionInfo": {
     "elapsed": 140011,
     "status": "ok",
     "timestamp": 1555479741886,
     "user": {
      "displayName": "Triloki Gupta",
      "photoUrl": "https://lh5.googleusercontent.com/-i5Q2Y1Fc3cc/AAAAAAAAAAI/AAAAAAAAHqI/ncYI5bgHpiQ/s64/photo.jpg",
      "userId": "02497753737384523015"
     },
     "user_tz": -330
    },
    "id": "D5FTndxxWE8r",
    "outputId": "03986230-a520-419e-aa95-f1b70365ea1f"
   },
   "outputs": [
    {
     "name": "stdout",
     "output_type": "stream",
     "text": [
      "4/4 [==============================] - 0s 26ms/step - loss: 0.2289 - accuracy: 0.9444\n",
      "1/1 [==============================] - 0s 41ms/step - loss: 0.8631 - accuracy: 0.6667\n",
      "[0.22891321778297424, 0.9444444179534912]\n",
      "[0.8630692958831787, 0.6666666865348816]\n"
     ]
    }
   ],
   "source": [
    "#train and test loss and scores respectively\n",
    "train_loss_score=model.evaluate(x_train,y_train)\n",
    "test_loss_score=model.evaluate(x_test,y_test)\n",
    "print(train_loss_score)\n",
    "print(test_loss_score)"
   ]
  },
  {
   "cell_type": "code",
   "execution_count": null,
   "metadata": {
    "colab": {
     "base_uri": "https://localhost:8080/",
     "height": 1361
    },
    "colab_type": "code",
    "executionInfo": {
     "elapsed": 139996,
     "status": "ok",
     "timestamp": 1555479741892,
     "user": {
      "displayName": "Triloki Gupta",
      "photoUrl": "https://lh5.googleusercontent.com/-i5Q2Y1Fc3cc/AAAAAAAAAAI/AAAAAAAAHqI/ncYI5bgHpiQ/s64/photo.jpg",
      "userId": "02497753737384523015"
     },
     "user_tz": -330
    },
    "id": "xZuRGZmoWIqb",
    "outputId": "f81d2510-256a-4a93-aa40-2c4379829c66"
   },
   "outputs": [],
   "source": [
    "x_test[2]"
   ]
  },
  {
   "cell_type": "code",
   "execution_count": null,
   "metadata": {
    "colab": {
     "base_uri": "https://localhost:8080/",
     "height": 34
    },
    "colab_type": "code",
    "executionInfo": {
     "elapsed": 139971,
     "status": "ok",
     "timestamp": 1555479741896,
     "user": {
      "displayName": "Triloki Gupta",
      "photoUrl": "https://lh5.googleusercontent.com/-i5Q2Y1Fc3cc/AAAAAAAAAAI/AAAAAAAAHqI/ncYI5bgHpiQ/s64/photo.jpg",
      "userId": "02497753737384523015"
     },
     "user_tz": -330
    },
    "id": "eQA-nKAcWQVb",
    "outputId": "1fb54444-49cb-445d-d003-747ae770c6ee"
   },
   "outputs": [],
   "source": [
    "y_test[2]"
   ]
  },
  {
   "cell_type": "code",
   "execution_count": null,
   "metadata": {
    "colab": {
     "base_uri": "https://localhost:8080/",
     "height": 51
    },
    "colab_type": "code",
    "executionInfo": {
     "elapsed": 150552,
     "status": "ok",
     "timestamp": 1555479752499,
     "user": {
      "displayName": "Triloki Gupta",
      "photoUrl": "https://lh5.googleusercontent.com/-i5Q2Y1Fc3cc/AAAAAAAAAAI/AAAAAAAAHqI/ncYI5bgHpiQ/s64/photo.jpg",
      "userId": "02497753737384523015"
     },
     "user_tz": -330
    },
    "id": "QTKYmCiYzl79",
    "outputId": "cae60b41-51ba-4bf0-d316-f8b50a2f0e75"
   },
   "outputs": [],
   "source": [
    "from keras.models import load_model\n",
    "model1 = load_model(\"LSTMmodel.h5\")\n",
    "model1.predict(np.array([[-4.33633179e+02,  6.14102974e+01, -1.43296366e+01,\n",
    "         4.55003014e+01, -8.74559975e+00],\n",
    "       [ 1.29582691e+01, -7.12582016e+00,  4.74118519e+00,\n",
    "        -8.70848083e+00,  1.14978743e+01],\n",
    "       [-1.25372562e+01,  4.71341181e+00,  5.64955950e+00,\n",
    "        -1.82618475e+00,  2.45467377e+00],\n",
    "       [-3.50646210e+00, -3.67841554e+00, -4.88692379e+00,\n",
    "         1.38214827e+00, -5.13137341e+00],\n",
    "       [-1.34057319e+00, -5.76654720e+00, -6.09698534e-01,\n",
    "        -3.29549503e+00, -9.45865571e-01],\n",
    "       [-2.95056909e-01, -9.53658700e-01, -2.16487765e+00,\n",
    "        -1.28158331e+00, -2.54224014e+00],\n",
    "       [-4.10138083e+00, -9.86345172e-01, -5.07865906e+00,\n",
    "        -4.01453257e+00, -5.50663137e+00],\n",
    "       [-2.48320150e+00,  1.54076290e+00,  1.75233018e+00,\n",
    "         1.32074952e+00,  8.19460988e-01],\n",
    "       [ 4.38646942e-01,  1.01708078e+00,  1.23925209e+00,\n",
    "         6.83125198e-01,  3.13140541e-01],\n",
    "       [ 3.69402021e-02,  4.08240519e-02,  3.66743542e-02,\n",
    "         3.38127725e-02,  3.56622934e-02],\n",
    "       [ 2.66733076e-02,  4.21579741e-02,  6.37496710e-02,\n",
    "         2.54455686e-01,  2.91825861e-01],\n",
    "       [ 1.03686877e-01,  6.09894916e-02,  6.31771460e-02,\n",
    "         1.27410948e-01,  7.52563104e-02],\n",
    "       [ 2.51841825e-02,  1.91368144e-02,  4.31273580e-02,\n",
    "         1.18336633e-01,  5.66902719e-02],\n",
    "       [ 1.86563823e-02,  4.72264970e-03,  1.90589647e-03,\n",
    "         1.81526318e-03,  2.01533153e-03],\n",
    "       [ 2.04839441e-03,  2.48364802e-03,  3.33801776e-01,\n",
    "         3.62318248e-01,  3.75341684e-01],\n",
    "       [ 4.35167998e-01,  4.83489811e-01,  4.08203304e-01,\n",
    "         4.01220948e-01,  4.67599839e-01],\n",
    "       [ 3.81513059e-01,  3.34868670e-01,  3.61110568e-01,\n",
    "         3.42815220e-01,  3.10847044e-01],\n",
    "       [ 3.21706444e-01,  3.00994515e-01,  3.08052540e-01,\n",
    "         3.32533807e-01,  3.63182932e-01],\n",
    "       [ 3.73650461e-01,  3.96633923e-01,  3.84437859e-01,\n",
    "         3.64253670e-01,  3.50362033e-01],\n",
    "       [ 3.27772111e-01,  3.14293027e-01,  3.17209512e-01,\n",
    "         3.22816998e-01,  3.27199429e-01],\n",
    "       [ 3.30961913e-01,  3.38543981e-01,  3.58884603e-01,\n",
    "         3.79011124e-01,  3.47940534e-01],\n",
    "       [ 3.64689380e-01,  3.46206367e-01,  3.23777884e-01,\n",
    "         5.15812814e-01,  5.26563406e-01],\n",
    "       [ 5.22288978e-01,  5.20673633e-01,  5.31087577e-01,\n",
    "         5.54562151e-01,  5.04709244e-01],\n",
    "       [ 4.95113313e-01,  4.82025146e-01,  4.26040232e-01,\n",
    "         4.04145718e-01,  4.33748037e-01],\n",
    "       [ 4.19691294e-01,  3.85986447e-01,  4.00616646e-01,\n",
    "         4.57501620e-01,  7.01143265e-01],\n",
    "       [ 6.10629857e-01,  3.49201620e-01,  3.42672914e-01,\n",
    "         3.62239093e-01,  3.35107386e-01],\n",
    "       [ 3.44348669e-01,  3.33932966e-01,  3.50242734e-01,\n",
    "         3.95549476e-01,  4.19005990e-01],\n",
    "       [ 4.53462631e-01,  4.38409358e-01,  4.25616443e-01,\n",
    "         4.08112139e-01,  3.73924434e-01],\n",
    "       [ 3.92427295e-01,  4.14020300e-01,  4.11141396e-01,\n",
    "         4.47464347e-01,  1.00466348e-01],\n",
    "       [ 8.05140554e-02,  9.55008981e-02,  1.12651015e-01,\n",
    "         1.58473650e-01,  1.86450953e-01],\n",
    "       [ 1.61218488e-01,  1.14809551e-01,  8.20229220e-02,\n",
    "         5.98927406e-02,  3.45650116e-02],\n",
    "       [ 3.45650116e-02,  1.87183854e-02,  2.51876105e-02,\n",
    "         2.38499138e-02,  0.00000000e+00],\n",
    "       [ 3.72778900e-01,  2.91268455e-01,  0.00000000e+00,\n",
    "         0.00000000e+00,  0.00000000e+00],\n",
    "       [ 0.00000000e+00,  1.51875087e-02,  2.26372995e-02,\n",
    "         1.50659717e-02,  4.50368740e-02],\n",
    "       [ 9.04327966e-02,  1.36060854e-01,  1.06214687e-01,\n",
    "         5.10919376e-02,  4.30758068e-02],\n",
    "       [ 3.49176638e-02,  5.84905481e-02,  6.77465316e-02,\n",
    "         5.34000101e-02,  7.43913963e-02]]))"
   ]
  },
  {
   "cell_type": "code",
   "execution_count": null,
   "metadata": {
    "colab": {},
    "colab_type": "code",
    "id": "jcpHgugbzr7M"
   },
   "outputs": [],
   "source": []
  }
 ],
 "metadata": {
  "colab": {
   "name": "LSTM.ipynb",
   "provenance": [],
   "version": "0.3.2"
  },
  "kernelspec": {
   "display_name": "Python 3",
   "language": "python",
   "name": "python3"
  },
  "language_info": {
   "codemirror_mode": {
    "name": "ipython",
    "version": 3
   },
   "file_extension": ".py",
   "mimetype": "text/x-python",
   "name": "python",
   "nbconvert_exporter": "python",
   "pygments_lexer": "ipython3",
   "version": "3.8.5"
  }
 },
 "nbformat": 4,
 "nbformat_minor": 1
}
