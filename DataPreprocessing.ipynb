{
 "cells": [
  {
   "cell_type": "code",
   "execution_count": 1,
   "metadata": {
    "colab": {
     "base_uri": "https://localhost:8080/",
     "height": 121
    },
    "colab_type": "code",
    "executionInfo": {
     "elapsed": 63459,
     "status": "ok",
     "timestamp": 1555476976912,
     "user": {
      "displayName": "Triloki Gupta",
      "photoUrl": "https://lh5.googleusercontent.com/-i5Q2Y1Fc3cc/AAAAAAAAAAI/AAAAAAAAHqI/ncYI5bgHpiQ/s64/photo.jpg",
      "userId": "02497753737384523015"
     },
     "user_tz": -330
    },
    "id": "xQUGEG0LjR_8",
    "outputId": "4271d75d-89e3-4c27-baf9-54775353c70a"
   },
   "outputs": [
    {
     "ename": "ModuleNotFoundError",
     "evalue": "No module named 'google.colab'",
     "output_type": "error",
     "traceback": [
      "\u001b[1;31m---------------------------------------------------------------------------\u001b[0m",
      "\u001b[1;31mModuleNotFoundError\u001b[0m                       Traceback (most recent call last)",
      "\u001b[1;32m<ipython-input-1-d5df0069828e>\u001b[0m in \u001b[0;36m<module>\u001b[1;34m\u001b[0m\n\u001b[1;32m----> 1\u001b[1;33m \u001b[1;32mfrom\u001b[0m \u001b[0mgoogle\u001b[0m\u001b[1;33m.\u001b[0m\u001b[0mcolab\u001b[0m \u001b[1;32mimport\u001b[0m \u001b[0mdrive\u001b[0m\u001b[1;33m\u001b[0m\u001b[1;33m\u001b[0m\u001b[0m\n\u001b[0m\u001b[0;32m      2\u001b[0m \u001b[0mdrive\u001b[0m\u001b[1;33m.\u001b[0m\u001b[0mmount\u001b[0m\u001b[1;33m(\u001b[0m\u001b[1;34m'/content/drive'\u001b[0m\u001b[1;33m)\u001b[0m\u001b[1;33m\u001b[0m\u001b[1;33m\u001b[0m\u001b[0m\n",
      "\u001b[1;31mModuleNotFoundError\u001b[0m: No module named 'google.colab'"
     ]
    }
   ],
   "source": [
    "from google.colab import drive\n",
    "drive.mount('/content/drive')"
   ]
  },
  {
   "cell_type": "code",
   "execution_count": 1,
   "metadata": {},
   "outputs": [
    {
     "ename": "ModuleNotFoundError",
     "evalue": "No module named 'google.colab'",
     "output_type": "error",
     "traceback": [
      "\u001b[1;31m---------------------------------------------------------------------------\u001b[0m",
      "\u001b[1;31mModuleNotFoundError\u001b[0m                       Traceback (most recent call last)",
      "\u001b[1;32m<ipython-input-1-5c2e8a8d365b>\u001b[0m in \u001b[0;36m<module>\u001b[1;34m\u001b[0m\n\u001b[1;32m----> 1\u001b[1;33m \u001b[1;32mfrom\u001b[0m \u001b[0mgoogle\u001b[0m\u001b[1;33m.\u001b[0m\u001b[0mcolab\u001b[0m \u001b[1;32mimport\u001b[0m \u001b[0mfiles\u001b[0m\u001b[1;33m\u001b[0m\u001b[1;33m\u001b[0m\u001b[0m\n\u001b[0m\u001b[0;32m      2\u001b[0m \u001b[0mfiles\u001b[0m\u001b[1;33m.\u001b[0m\u001b[0mupload\u001b[0m\u001b[1;33m(\u001b[0m\u001b[1;33m)\u001b[0m\u001b[1;33m\u001b[0m\u001b[1;33m\u001b[0m\u001b[0m\n",
      "\u001b[1;31mModuleNotFoundError\u001b[0m: No module named 'google.colab'"
     ]
    }
   ],
   "source": [
    "from google.colab import files\n",
    "files.upload()"
   ]
  },
  {
   "cell_type": "code",
   "execution_count": 1,
   "metadata": {
    "colab": {},
    "colab_type": "code",
    "id": "Nned6TCsjXLG"
   },
   "outputs": [],
   "source": [
    "#Importing libraries\n",
    "import pandas as pd\n",
    "import numpy as np\n",
    "import matplotlib.pyplot as plt\n",
    "import os\n",
    "from tqdm import tqdm"
   ]
  },
  {
   "cell_type": "code",
   "execution_count": 2,
   "metadata": {
    "colab": {},
    "colab_type": "code",
    "id": "RRWl_vL6j50V"
   },
   "outputs": [],
   "source": [
    "from librosa import display\n",
    "import librosa"
   ]
  },
  {
   "cell_type": "code",
   "execution_count": 6,
   "metadata": {
    "colab": {
     "base_uri": "https://localhost:8080/",
     "height": 34
    },
    "colab_type": "code",
    "executionInfo": {
     "elapsed": 67127,
     "status": "ok",
     "timestamp": 1555476980650,
     "user": {
      "displayName": "Triloki Gupta",
      "photoUrl": "https://lh5.googleusercontent.com/-i5Q2Y1Fc3cc/AAAAAAAAAAI/AAAAAAAAHqI/ncYI5bgHpiQ/s64/photo.jpg",
      "userId": "02497753737384523015"
     },
     "user_tz": -330
    },
    "id": "mUzCFECekFTm",
    "outputId": "04f59b90-c38b-4782-fdc8-c0e4d118cb1d"
   },
   "outputs": [
    {
     "data": {
      "text/plain": [
       "((40, 130), (40, 130), (36, 130), (36, 130), (40, 130))"
      ]
     },
     "execution_count": 6,
     "metadata": {},
     "output_type": "execute_result"
    }
   ],
   "source": [
    "#feature set\n",
    "#This voice is of a Harshit\n",
    "# Load the audio as a waveform `y`\n",
    "# Store the sampling rate as `sr`\n",
    "y,sr=librosa.load(\"C:/Users/hbhat/Speaker-Identification-from-Voice-master/data_set_create/Harshit/Harshit1.wav\")\n",
    "mfccs = librosa.feature.mfcc(y, sr, n_mfcc=40)\n",
    "melspectrogram =librosa.feature.melspectrogram(y=y, sr=sr, n_mels=40,fmax=8000)\n",
    "chroma_stft=librosa.feature.chroma_stft(y=y, sr=sr,n_chroma=40)\n",
    "chroma_cq =librosa.feature.chroma_cqt(y=y, sr=sr,n_chroma=36)\n",
    "chroma_cens =librosa.feature.chroma_cens(y=y, sr=sr,n_chroma=36)\n",
    "melspectrogram.shape,chroma_stft.shape,chroma_cq.shape,chroma_cens.shape,mfccs.shape"
   ]
  },
  {
   "cell_type": "code",
   "execution_count": 7,
   "metadata": {},
   "outputs": [
    {
     "data": {
      "text/plain": [
       "40"
      ]
     },
     "execution_count": 7,
     "metadata": {},
     "output_type": "execute_result"
    }
   ],
   "source": [
    "len(mfccs)"
   ]
  },
  {
   "cell_type": "code",
   "execution_count": 8,
   "metadata": {
    "colab": {
     "base_uri": "https://localhost:8080/",
     "height": 297
    },
    "colab_type": "code",
    "executionInfo": {
     "elapsed": 67065,
     "status": "ok",
     "timestamp": 1555476980652,
     "user": {
      "displayName": "Triloki Gupta",
      "photoUrl": "https://lh5.googleusercontent.com/-i5Q2Y1Fc3cc/AAAAAAAAAAI/AAAAAAAAHqI/ncYI5bgHpiQ/s64/photo.jpg",
      "userId": "02497753737384523015"
     },
     "user_tz": -330
    },
    "id": "PPwXkcEGkMg-",
    "outputId": "cb4895d6-66cc-4fd7-9912-11a2b303030f"
   },
   "outputs": [
    {
     "data": {
      "image/png": "[encoded data removed]",
      "text/plain": [
       "<Figure size 720x288 with 2 Axes>"
      ]
     },
     "metadata": {
      "needs_background": "light"
     },
     "output_type": "display_data"
    }
   ],
   "source": [
    "#MFCC of Harshit's voice\n",
    "import matplotlib.pyplot as plt\n",
    "plt.figure(figsize=(10,4))\n",
    "librosa.display.specshow(mfccs, x_axis='time')\n",
    "plt.colorbar()\n",
    "plt.title('MFCC')\n",
    "plt.tight_layout()\n",
    "#print(mfccs)"
   ]
  },
  {
   "cell_type": "code",
   "execution_count": 9,
   "metadata": {
    "colab": {
     "base_uri": "https://localhost:8080/",
     "height": 297
    },
    "colab_type": "code",
    "executionInfo": {
     "elapsed": 67670,
     "status": "ok",
     "timestamp": 1555476981305,
     "user": {
      "displayName": "Triloki Gupta",
      "photoUrl": "https://lh5.googleusercontent.com/-i5Q2Y1Fc3cc/AAAAAAAAAAI/AAAAAAAAHqI/ncYI5bgHpiQ/s64/photo.jpg",
      "userId": "02497753737384523015"
     },
     "user_tz": -330
    },
    "id": "ENgia31ok2-Y",
    "outputId": "dda23979-d31b-4448-b6b6-b4b9c419a960"
   },
   "outputs": [
    {
     "name": "stderr",
     "output_type": "stream",
     "text": [
      "C:\\ProgramData\\Anaconda3\\lib\\site-packages\\librosa\\display.py:974: MatplotlibDeprecationWarning: The 'basey' parameter of __init__() has been renamed 'base' since Matplotlib 3.3; support for the old name will be dropped two minor releases later.\n",
      "  scaler(mode, **kwargs)\n",
      "C:\\ProgramData\\Anaconda3\\lib\\site-packages\\librosa\\display.py:974: MatplotlibDeprecationWarning: The 'linthreshy' parameter of __init__() has been renamed 'linthresh' since Matplotlib 3.3; support for the old name will be dropped two minor releases later.\n",
      "  scaler(mode, **kwargs)\n"
     ]
    },
    {
     "data": {
      "image/png": "[encoded data removed]",
      "text/plain": [
       "<Figure size 720x288 with 2 Axes>"
      ]
     },
     "metadata": {
      "needs_background": "light"
     },
     "output_type": "display_data"
    }
   ],
   "source": [
    "#Melspectrogram of harshit's voice\n",
    "plt.figure(figsize=(10,4))\n",
    "librosa.display.specshow(librosa.power_to_db(melspectrogram,ref=np.max),y_axis='mel', fmax=8000,x_axis='time')\n",
    "plt.colorbar(format='%+2.0f dB')\n",
    "plt.title('Mel spectrogram')\n",
    "plt.tight_layout()"
   ]
  },
  {
   "cell_type": "code",
   "execution_count": 10,
   "metadata": {
    "colab": {
     "base_uri": "https://localhost:8080/",
     "height": 297
    },
    "colab_type": "code",
    "executionInfo": {
     "elapsed": 69341,
     "status": "ok",
     "timestamp": 1555476983006,
     "user": {
      "displayName": "Triloki Gupta",
      "photoUrl": "https://lh5.googleusercontent.com/-i5Q2Y1Fc3cc/AAAAAAAAAAI/AAAAAAAAHqI/ncYI5bgHpiQ/s64/photo.jpg",
      "userId": "02497753737384523015"
     },
     "user_tz": -330
    },
    "id": "cBQ2ynuflTXr",
    "outputId": "2736c3f9-a1dc-4275-c46f-4ab938942c3a"
   },
   "outputs": [
    {
     "data": {
      "image/png": "[encoded data removed]",
      "text/plain": [
       "<Figure size 720x288 with 2 Axes>"
      ]
     },
     "metadata": {
      "needs_background": "light"
     },
     "output_type": "display_data"
    }
   ],
   "source": [
    "#Chromagram of harshit's voice\n",
    "plt.figure(figsize=(10,4))\n",
    "librosa.display.specshow(chroma_stft, y_axis='chroma', x_axis='time')\n",
    "plt.colorbar()\n",
    "plt.title('Chromagram')\n",
    "plt.tight_layout()"
   ]
  },
  {
   "cell_type": "code",
   "execution_count": 11,
   "metadata": {
    "colab": {
     "base_uri": "https://localhost:8080/",
     "height": 297
    },
    "colab_type": "code",
    "executionInfo": {
     "elapsed": 69316,
     "status": "ok",
     "timestamp": 1555476983015,
     "user": {
      "displayName": "Triloki Gupta",
      "photoUrl": "https://lh5.googleusercontent.com/-i5Q2Y1Fc3cc/AAAAAAAAAAI/AAAAAAAAHqI/ncYI5bgHpiQ/s64/photo.jpg",
      "userId": "02497753737384523015"
     },
     "user_tz": -330
    },
    "id": "KzcKH_HblbcD",
    "outputId": "f4e4104b-6f19-4516-83b7-285629f62485"
   },
   "outputs": [
    {
     "data": {
      "image/png": "[encoded data removed]",
      "text/plain": [
       "<Figure size 720x288 with 2 Axes>"
      ]
     },
     "metadata": {
      "needs_background": "light"
     },
     "output_type": "display_data"
    }
   ],
   "source": [
    "#Chroma cqt of harshit's voice\n",
    "plt.figure(figsize=(10,4))\n",
    "librosa.display.specshow(chroma_cq, y_axis='chroma', x_axis='time')\n",
    "plt.colorbar()\n",
    "plt.title('chroma_cqt')\n",
    "plt.tight_layout()"
   ]
  },
  {
   "cell_type": "code",
   "execution_count": 12,
   "metadata": {
    "colab": {
     "base_uri": "https://localhost:8080/",
     "height": 297
    },
    "colab_type": "code",
    "executionInfo": {
     "elapsed": 70313,
     "status": "ok",
     "timestamp": 1555476984048,
     "user": {
      "displayName": "Triloki Gupta",
      "photoUrl": "https://lh5.googleusercontent.com/-i5Q2Y1Fc3cc/AAAAAAAAAAI/AAAAAAAAHqI/ncYI5bgHpiQ/s64/photo.jpg",
      "userId": "02497753737384523015"
     },
     "user_tz": -330
    },
    "id": "5KyKfKZYllsz",
    "outputId": "32db3982-58a1-4508-c303-6b4b1ad3b593"
   },
   "outputs": [
    {
     "data": {
      "image/png": "[encoded data removed]",
      "text/plain": [
       "<Figure size 720x288 with 2 Axes>"
      ]
     },
     "metadata": {
      "needs_background": "light"
     },
     "output_type": "display_data"
    }
   ],
   "source": [
    "#Chroma cens of a harshit's voice\n",
    "plt.figure(figsize=(10,4))\n",
    "librosa.display.specshow(chroma_cens, y_axis='chroma', x_axis='time')\n",
    "plt.colorbar()\n",
    "plt.title('chroma_cens')\n",
    "plt.tight_layout()"
   ]
  },
  {
   "cell_type": "code",
   "execution_count": 18,
   "metadata": {
    "colab": {
     "base_uri": "https://localhost:8080/",
     "height": 34
    },
    "colab_type": "code",
    "executionInfo": {
     "elapsed": 70275,
     "status": "ok",
     "timestamp": 1555476984052,
     "user": {
      "displayName": "Triloki Gupta",
      "photoUrl": "https://lh5.googleusercontent.com/-i5Q2Y1Fc3cc/AAAAAAAAAAI/AAAAAAAAHqI/ncYI5bgHpiQ/s64/photo.jpg",
      "userId": "02497753737384523015"
     },
     "user_tz": -330
    },
    "id": "Dpg8WNZulv4T",
    "outputId": "fd37572f-4255-400d-c709-12f94b363684"
   },
   "outputs": [
    {
     "data": {
      "text/plain": [
       "((36,), (36,), (36,), (36,), (36,))"
      ]
     },
     "execution_count": 18,
     "metadata": {},
     "output_type": "execute_result"
    }
   ],
   "source": [
    "#feature set\n",
    "y,sr=librosa.load(\"C:/Users/hbhat/Speaker-Identification-from-Voice-master/data_set_create/Harshit/Harshit15.wav\")\n",
    "mfccs = np.mean(librosa.feature.mfcc(y, sr, n_mfcc=36).T,axis=0)\n",
    "melspectrogram = np.mean(librosa.feature.melspectrogram(y=y, sr=sr, n_mels=36,fmax=8000).T,axis=0)\n",
    "chroma_stft=np.mean(librosa.feature.chroma_stft(y=y, sr=sr,n_chroma=36).T,axis=0)\n",
    "chroma_cq = np.mean(librosa.feature.chroma_cqt(y=y, sr=sr,n_chroma=36).T,axis=0)\n",
    "chroma_cens = np.mean(librosa.feature.chroma_cens(y=y, sr=sr,n_chroma=36).T,axis=0)\n",
    "melspectrogram.shape,chroma_stft.shape,chroma_cq.shape,chroma_cens.shape,mfccs.shape"
   ]
  },
  {
   "cell_type": "code",
   "execution_count": 20,
   "metadata": {
    "colab": {
     "base_uri": "https://localhost:8080/",
     "height": 706
    },
    "colab_type": "code",
    "executionInfo": {
     "elapsed": 70256,
     "status": "ok",
     "timestamp": 1555476984055,
     "user": {
      "displayName": "Triloki Gupta",
      "photoUrl": "https://lh5.googleusercontent.com/-i5Q2Y1Fc3cc/AAAAAAAAAAI/AAAAAAAAHqI/ncYI5bgHpiQ/s64/photo.jpg",
      "userId": "02497753737384523015"
     },
     "user_tz": -330
    },
    "id": "Vibons3om9Kr",
    "outputId": "e34765d4-3ab3-45aa-a8cb-3564840ddf21"
   },
   "outputs": [
    {
     "name": "stdout",
     "output_type": "stream",
     "text": [
      "(36, 5)\n",
      "[-287.81921387   85.18498993   -4.1712327    23.86144829   21.75243759]\n",
      "[-0.87708998 -4.97545719  2.05608726 -4.20607281  8.32012844]\n",
      "[ 0.55122644 -1.12970996  0.04962111  8.53226185  1.24195993]\n",
      "[-1.03335881 -2.89888215  5.79704285 -5.95757151 -1.28634644]\n",
      "[-2.11205578  0.66089809 -1.1885004  -0.64902216  0.77393341]\n",
      "[ 0.31890705 -8.59249687 -0.1547491  -3.62641597 -1.92738473]\n",
      "[-2.98391104 -1.43866241 -1.62458026 -0.73183972 -1.85888779]\n",
      "[1.27430689 1.00358999 6.00988626 1.20701659 1.96936083]\n",
      "[ 3.19390965  4.719419   13.49272919 10.63162994  0.42962092]\n",
      "[0.08789945 0.11852086 0.08170276 0.06837911 0.10742786]\n",
      "[0.10854754 0.11345401 1.05631065 1.27986145 2.01825309]\n",
      "[2.34407997 0.54837561 0.12469318 0.314531   0.5092544 ]\n",
      "[0.23161712 0.208      0.13792822 0.04264148 0.04144404]\n",
      "[0.05321411 0.01669659 0.01807539 0.04791916 0.01460895]\n",
      "[0.01776261 0.02004788 0.4318428  0.43683735 0.42189249]\n",
      "[0.38958523 0.36965409 0.38331288 0.39949241 0.41226548]\n",
      "[0.41857329 0.3727937  0.34538379 0.35468054 0.3495782 ]\n",
      "[0.37937635 0.39707413 0.43470258 0.4219397  0.45618886]\n",
      "[0.45653245 0.4600026  0.48443788 0.4425168  0.40847698]\n",
      "[0.38761517 0.38321045 0.40055379 0.48330384 0.55251092]\n",
      "[0.53388941 0.54800683 0.54152733 0.51277149 0.50000179]\n",
      "[0.48975062 0.50135994 0.46293393 0.47327289 0.48667216]\n",
      "[0.4938412  0.43607268 0.50744057 0.49102888 0.46664324]\n",
      "[0.47524902 0.42649513 0.50641346 0.51594615 0.52510029]\n",
      "[0.52347118 0.49513522 0.49769205 0.47864914 0.44812074]\n",
      "[0.48399916 0.4592675  0.44850349 0.45434907 0.45148021]\n",
      "[0.52410233 0.5527193  0.53084272 0.52590871 0.47119948]\n",
      "[0.42893586 0.4794302  0.42140085 0.38030443 0.43018037]\n",
      "[0.42894462 0.3815583  0.36307275 0.37258086 0.05361195]\n",
      "[0.12777508 0.17205641 0.09202622 0.17366879 0.10062623]\n",
      "[0.09150034 0.08379214 0.09212155 0.17473502 0.19457139]\n",
      "[0.27086767 0.15787175 0.08614358 0.0203886  0.        ]\n",
      "[0.         0.15394379 0.01461774 0.         0.        ]\n",
      "[0.03713835 0.1215969  0.01969424 0.06597405 0.11490856]\n",
      "[0.11207564 0.04136157 0.09277442 0.         0.03779628]\n",
      "[0.03812579 0.         0.         0.         0.        ]\n"
     ]
    }
   ],
   "source": [
    "#stacking and reshaping\n",
    "features=np.reshape(np.vstack((mfccs,melspectrogram,chroma_stft,chroma_cq,chroma_cens)),(36,5))\n",
    "print(features.shape)\n",
    "for i in range(36):\n",
    "  print(features[i])"
   ]
  },
  {
   "cell_type": "code",
   "execution_count": 21,
   "metadata": {
    "colab": {
     "base_uri": "https://localhost:8080/",
     "height": 34
    },
    "colab_type": "code",
    "executionInfo": {
     "elapsed": 723584,
     "status": "ok",
     "timestamp": 1555477637421,
     "user": {
      "displayName": "Triloki Gupta",
      "photoUrl": "https://lh5.googleusercontent.com/-i5Q2Y1Fc3cc/AAAAAAAAAAI/AAAAAAAAHqI/ncYI5bgHpiQ/s64/photo.jpg",
      "userId": "02497753737384523015"
     },
     "user_tz": -330
    },
    "id": "YzuX5l-ynGlL",
    "outputId": "c7ea9e03-e472-4512-acb8-47fda6f863cc"
   },
   "outputs": [
    {
     "name": "stderr",
     "output_type": "stream",
     "text": [
      "100%|██████████| 9/9 [01:05<00:00,  7.28s/it]\n"
     ]
    }
   ],
   "source": [
    "#preprocessing using only mfcc\n",
    "x_train=[]\n",
    "x_test=[]\n",
    "y_train=[]\n",
    "y_test=[]\n",
    "path = 'C:/Users/hbhat/Speaker-Identification-from-Voice-master/data_set_create'\n",
    " \n",
    "files = os.listdir(path)\n",
    "for name in tqdm(files):\n",
    "    \n",
    "  filename = path+\"/\"+name\n",
    "  #print(filename)\n",
    "  files1 = os.listdir(filename)\n",
    "  for name1 in files1:\n",
    "      #print(filename+\"/\"+name1)\n",
    "      filename1 = filename+\"/\"+name1\n",
    "      y,sr=librosa.load(filename1)\n",
    "      mfccs = np.mean(librosa.feature.mfcc(y, sr, n_mfcc=36).T,axis=0)\n",
    "      melspectrogram = np.mean(librosa.feature.melspectrogram(y=y, sr=sr, n_mels=36,fmax=8000).T,axis=0)\n",
    "      chroma_stft=np.mean(librosa.feature.chroma_stft(y=y, sr=sr,n_chroma=36).T,axis=0)\n",
    "      chroma_cq = np.mean(librosa.feature.chroma_cqt(y=y, sr=sr,n_chroma=36).T,axis=0)\n",
    "      chroma_cens = np.mean(librosa.feature.chroma_cens(y=y, sr=sr,n_chroma=36).T,axis=0)\n",
    "      features=np.reshape(np.vstack((mfccs,melspectrogram,chroma_stft,chroma_cq,chroma_cens)),(36,5))\n",
    "      x_train.append(features)\n",
    "      y_train.append(name)"
   ]
  },
  {
   "cell_type": "code",
   "execution_count": 22,
   "metadata": {
    "colab": {
     "base_uri": "https://localhost:8080/",
     "height": 34
    },
    "colab_type": "code",
    "executionInfo": {
     "elapsed": 723559,
     "status": "ok",
     "timestamp": 1555477637427,
     "user": {
      "displayName": "Triloki Gupta",
      "photoUrl": "https://lh5.googleusercontent.com/-i5Q2Y1Fc3cc/AAAAAAAAAAI/AAAAAAAAHqI/ncYI5bgHpiQ/s64/photo.jpg",
      "userId": "02497753737384523015"
     },
     "user_tz": -330
    },
    "id": "b5hg1FTGE6-U",
    "outputId": "93848b79-c429-4462-86a8-657bd001f81c"
   },
   "outputs": [
    {
     "data": {
      "text/plain": [
       "(135, 135)"
      ]
     },
     "execution_count": 22,
     "metadata": {},
     "output_type": "execute_result"
    }
   ],
   "source": [
    "len(x_train), len(y_train)"
   ]
  },
  {
   "cell_type": "code",
   "execution_count": 23,
   "metadata": {
    "colab": {
     "base_uri": "https://localhost:8080/",
     "height": 34
    },
    "colab_type": "code",
    "executionInfo": {
     "elapsed": 723527,
     "status": "ok",
     "timestamp": 1555477637431,
     "user": {
      "displayName": "Triloki Gupta",
      "photoUrl": "https://lh5.googleusercontent.com/-i5Q2Y1Fc3cc/AAAAAAAAAAI/AAAAAAAAHqI/ncYI5bgHpiQ/s64/photo.jpg",
      "userId": "02497753737384523015"
     },
     "user_tz": -330
    },
    "id": "pJqvW8b4QKug",
    "outputId": "c7e52f40-6577-4928-ece7-30264b98c0cf"
   },
   "outputs": [
    {
     "data": {
      "text/plain": [
       "LabelEncoder()"
      ]
     },
     "execution_count": 23,
     "metadata": {},
     "output_type": "execute_result"
    }
   ],
   "source": [
    "from sklearn import preprocessing\n",
    "le = preprocessing.LabelEncoder()\n",
    "le.fit(y_train)\n"
   ]
  },
  {
   "cell_type": "code",
   "execution_count": 24,
   "metadata": {
    "colab": {
     "base_uri": "https://localhost:8080/",
     "height": 34
    },
    "colab_type": "code",
    "executionInfo": {
     "elapsed": 723505,
     "status": "ok",
     "timestamp": 1555477637437,
     "user": {
      "displayName": "Triloki Gupta",
      "photoUrl": "https://lh5.googleusercontent.com/-i5Q2Y1Fc3cc/AAAAAAAAAAI/AAAAAAAAHqI/ncYI5bgHpiQ/s64/photo.jpg",
      "userId": "02497753737384523015"
     },
     "user_tz": -330
    },
    "id": "ZKnrmjd3QRTp",
    "outputId": "ba936172-7970-4aa6-841e-612a3867dfa4"
   },
   "outputs": [
    {
     "data": {
      "text/plain": [
       "['Alok',\n",
       " 'Anindita',\n",
       " 'Anshula',\n",
       " 'Deepanshu',\n",
       " 'Harshit',\n",
       " 'Himanshu',\n",
       " 'Maniya',\n",
       " 'gauri',\n",
       " 'sumit']"
      ]
     },
     "execution_count": 24,
     "metadata": {},
     "output_type": "execute_result"
    }
   ],
   "source": [
    "list(le.classes_)"
   ]
  },
  {
   "cell_type": "code",
   "execution_count": 25,
   "metadata": {
    "colab": {},
    "colab_type": "code",
    "id": "_H__UnnuQUGA"
   },
   "outputs": [],
   "source": [
    "y_train1 = le.transform(y_train) "
   ]
  },
  {
   "cell_type": "code",
   "execution_count": 26,
   "metadata": {
    "colab": {
     "base_uri": "https://localhost:8080/",
     "height": 34
    },
    "colab_type": "code",
    "executionInfo": {
     "elapsed": 723484,
     "status": "ok",
     "timestamp": 1555477637460,
     "user": {
      "displayName": "Triloki Gupta",
      "photoUrl": "https://lh5.googleusercontent.com/-i5Q2Y1Fc3cc/AAAAAAAAAAI/AAAAAAAAHqI/ncYI5bgHpiQ/s64/photo.jpg",
      "userId": "02497753737384523015"
     },
     "user_tz": -330
    },
    "id": "FkYQA_jhLfoV",
    "outputId": "66a2e148-f435-4d4a-a2bf-59da14430e01"
   },
   "outputs": [
    {
     "data": {
      "text/plain": [
       "array(['Alok', 'Anindita', 'Anshula', 'Deepanshu', 'Harshit', 'Himanshu',\n",
       "       'Maniya', 'gauri', 'sumit'], dtype='<U9')"
      ]
     },
     "execution_count": 26,
     "metadata": {},
     "output_type": "execute_result"
    }
   ],
   "source": [
    "le.inverse_transform([0, 1, 2,3,4,5,6,7,8])"
   ]
  },
  {
   "cell_type": "code",
   "execution_count": 27,
   "metadata": {
    "colab": {},
    "colab_type": "code",
    "id": "eUkMkzHOHF2O"
   },
   "outputs": [],
   "source": [
    "#converting the lists into numpy arrays\n",
    "x_train=np.array(x_train)\n",
    "y_train=np.array(y_train1)"
   ]
  },
  {
   "cell_type": "code",
   "execution_count": 28,
   "metadata": {
    "colab": {
     "base_uri": "https://localhost:8080/",
     "height": 34
    },
    "colab_type": "code",
    "executionInfo": {
     "elapsed": 723469,
     "status": "ok",
     "timestamp": 1555477637476,
     "user": {
      "displayName": "Triloki Gupta",
      "photoUrl": "https://lh5.googleusercontent.com/-i5Q2Y1Fc3cc/AAAAAAAAAAI/AAAAAAAAHqI/ncYI5bgHpiQ/s64/photo.jpg",
      "userId": "02497753737384523015"
     },
     "user_tz": -330
    },
    "id": "O03oYMywHI3P",
    "outputId": "4b0e0be6-c3a2-4cbd-9322-094850857654"
   },
   "outputs": [
    {
     "data": {
      "text/plain": [
       "((135, 36, 5), (135,))"
      ]
     },
     "execution_count": 28,
     "metadata": {},
     "output_type": "execute_result"
    }
   ],
   "source": [
    "x_train.shape, y_train.shape"
   ]
  },
  {
   "cell_type": "code",
   "execution_count": 29,
   "metadata": {
    "colab": {
     "base_uri": "https://localhost:8080/",
     "height": 34
    },
    "colab_type": "code",
    "executionInfo": {
     "elapsed": 723434,
     "status": "ok",
     "timestamp": 1555477637479,
     "user": {
      "displayName": "Triloki Gupta",
      "photoUrl": "https://lh5.googleusercontent.com/-i5Q2Y1Fc3cc/AAAAAAAAAAI/AAAAAAAAHqI/ncYI5bgHpiQ/s64/photo.jpg",
      "userId": "02497753737384523015"
     },
     "user_tz": -330
    },
    "id": "rt88GV3qHdI9",
    "outputId": "f1e91855-8317-4dfe-afff-5d63e95b4c36"
   },
   "outputs": [
    {
     "data": {
      "text/plain": [
       "(135, 180)"
      ]
     },
     "execution_count": 29,
     "metadata": {},
     "output_type": "execute_result"
    }
   ],
   "source": [
    "#reshaping into 2d to save in csv format\n",
    "x_train_2d=np.reshape(x_train,(x_train.shape[0],x_train.shape[1]*x_train.shape[2]))\n",
    "x_train_2d.shape"
   ]
  },
  {
   "cell_type": "code",
   "execution_count": 30,
   "metadata": {
    "colab": {},
    "colab_type": "code",
    "id": "pFgZwEg2ShMr"
   },
   "outputs": [],
   "source": [
    "from sklearn.model_selection import train_test_split\n",
    "x_train_2d, x_test_2d, y_train, y_test = train_test_split(x_train_2d, y_train, test_size = 0.2, random_state = 0)"
   ]
  },
  {
   "cell_type": "code",
   "execution_count": 31,
   "metadata": {
    "colab": {},
    "colab_type": "code",
    "id": "VZ8kRpleJeno"
   },
   "outputs": [],
   "source": [
    "#saving the data numpy arrays\n",
    "np.savetxt(\"train_data1.csv\", x_train_2d, delimiter=\",\")\n",
    "np.savetxt(\"test_data1.csv\",x_test_2d,delimiter=\",\")\n",
    "np.savetxt(\"train_labels1.csv\",y_train,delimiter=\",\")\n",
    "np.savetxt(\"test_labels1.csv\",y_test,delimiter=\",\")"
   ]
  },
  {
   "cell_type": "code",
   "execution_count": 32,
   "metadata": {
    "colab": {
     "base_uri": "https://localhost:8080/",
     "height": 34
    },
    "colab_type": "code",
    "executionInfo": {
     "elapsed": 723428,
     "status": "ok",
     "timestamp": 1555477637511,
     "user": {
      "displayName": "Triloki Gupta",
      "photoUrl": "https://lh5.googleusercontent.com/-i5Q2Y1Fc3cc/AAAAAAAAAAI/AAAAAAAAHqI/ncYI5bgHpiQ/s64/photo.jpg",
      "userId": "02497753737384523015"
     },
     "user_tz": -330
    },
    "id": "8MryC4TASBge",
    "outputId": "c6f5951b-ad9e-4c2d-8448-90927b39ac2d"
   },
   "outputs": [
    {
     "data": {
      "text/plain": [
       "((108, 180), (108,), (27, 180), (27,))"
      ]
     },
     "execution_count": 32,
     "metadata": {},
     "output_type": "execute_result"
    }
   ],
   "source": [
    "x_train_2d.shape, y_train.shape, x_test_2d.shape, y_test.shape"
   ]
  },
  {
   "cell_type": "code",
   "execution_count": 0,
   "metadata": {
    "colab": {},
    "colab_type": "code",
    "id": "dZyEgLatG0MZ"
   },
   "outputs": [],
   "source": [
    "#downloading the saved data from colab's server\n",
    "from google.colab import files\n",
    "\n",
    "files.download(\"train_data1.csv\")\n",
    "files.download(\"test_data1.csv\")\n",
    "files.download(\"train_labels1.csv\")\n",
    "files.download(\"test_labels1.csv\")"
   ]
  },
  {
   "cell_type": "code",
   "execution_count": 0,
   "metadata": {
    "colab": {},
    "colab_type": "code",
    "id": "z485XvgvJpFv"
   },
   "outputs": [],
   "source": []
  },
  {
   "cell_type": "code",
   "execution_count": 0,
   "metadata": {
    "colab": {},
    "colab_type": "code",
    "id": "cUHOUcbaw9Hj"
   },
   "outputs": [],
   "source": []
  }
 ],
 "metadata": {
  "accelerator": "GPU",
  "celltoolbar": "Raw Cell Format",
  "colab": {
   "collapsed_sections": [],
   "name": "DataPreprocessing.ipynb",
   "provenance": [],
   "version": "0.3.2"
  },
  "kernelspec": {
   "display_name": "Python 3",
   "language": "python",
   "name": "python3"
  },
  "language_info": {
   "codemirror_mode": {
    "name": "ipython",
    "version": 3
   },
   "file_extension": ".py",
   "mimetype": "text/x-python",
   "name": "python",
   "nbconvert_exporter": "python",
   "pygments_lexer": "ipython3",
   "version": "3.8.5"
  }
 },
 "nbformat": 4,
 "nbformat_minor": 1
}
